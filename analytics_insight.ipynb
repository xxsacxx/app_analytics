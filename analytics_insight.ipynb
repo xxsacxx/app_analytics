{
 "cells": [
  {
   "cell_type": "code",
   "execution_count": 16,
   "metadata": {
    "scrolled": true
   },
   "outputs": [
    {
     "data": {
      "application/vnd.plotly.v1+json": {
       "config": {
        "plotlyServerURL": "https://plot.ly"
       },
       "data": [
        {
         "lat": [
          "12.912157",
          "12.904184",
          "12.904184",
          "12.904184",
          "12.904184",
          "12.904184",
          "12.904184",
          "12.904184",
          "12.935067",
          "12.935067",
          "12.933046",
          "12.933046",
          "12.933046",
          "12.933046",
          "12.933046",
          "12.933046",
          "12.933046",
          "12.935067",
          "12.935067",
          "12.904092",
          "12.904092",
          "12.904092",
          "12.904092",
          "12.904092",
          "12.904092",
          "12.89216",
          "12.995841",
          "12.995841",
          "12.995841",
          "12.995841",
          "12.995841",
          "12.995841",
          "12.995841",
          "12.906392",
          "12.904115",
          "12.904115",
          "12.904115",
          "12.904115",
          "12.904115",
          "12.904115",
          "12.904115",
          "12.904112",
          "12.904112",
          "12.904112",
          "12.904304",
          "12.904157",
          "12.904157",
          "12.904157",
          "12.904157",
          "12.904157",
          "12.904157",
          "12.904119",
          "12.904119",
          "12.905",
          "12.905",
          "12.905",
          "12.905",
          "12.905",
          "12.905",
          "12.904102",
          "12.904098",
          "12.904098",
          "12.904098",
          "12.904098",
          "12.904098",
          "12.904098",
          "12.904098",
          "12.904098",
          "12.90412",
          "12.923093",
          "12.923093",
          "12.904103",
          "12.994455",
          "12.994457",
          "12.994457",
          "12.994434",
          "12.994434",
          "12.994434",
          "12.994434",
          "12.994434",
          "12.994434",
          "12.994434",
          "12.994434",
          "12.994434",
          "12.904171",
          "12.904304",
          "12.904304",
          "12.904304",
          "12.904304",
          "12.904304",
          "12.904304",
          "12.904108",
          "12.911546",
          "12.911546",
          "12.911546",
          "12.911546",
          "12.911546",
          "12.911546",
          "12.911546",
          "12.911546",
          "12.911546",
          "12.911546",
          "12.911546",
          "12.911546",
          "12.911546",
          "12.911546",
          "12.911546",
          "12.904103",
          "12.904103",
          "12.904103",
          "12.904103",
          "12.904103",
          "12.904103",
          "12.904103",
          "12.904103",
          "12.904103",
          "12.904103",
          "12.904111",
          "12.904111",
          "12.904111",
          "12.904229",
          "12.904229",
          "12.904229",
          "12.904229",
          "12.904229",
          "12.904229",
          "12.9038725",
          "12.911546",
          "12.911546",
          "12.911546",
          "12.911546",
          "12.904104",
          "28.589586",
          "28.60065",
          "12.904554",
          "12.904111",
          "12.904102",
          "12.904109",
          "12.904112",
          "12.904112",
          "12.904112",
          "12.904112",
          "12.904112",
          "12.904112",
          "12.904112",
          "12.904111",
          "12.904111",
          "12.904111",
          "12.904111",
          "12.904111",
          "12.904111",
          "12.904111",
          "12.904111",
          "12.904111",
          "12.904111",
          "12.904111",
          "12.904111",
          "12.904111",
          "12.904111",
          "12.904111",
          "12.904111",
          "12.904111",
          "12.904111",
          "12.904111",
          "12.904111",
          "12.904103",
          "12.904112",
          "12.904112",
          "12.904112",
          "12.904112",
          "12.904112",
          "12.904112",
          "12.907483",
          "12.904005",
          "12.904005",
          "12.904005",
          "12.904005",
          "12.904005",
          "12.904005",
          "12.903851",
          "12.969888",
          "12.969888",
          "12.969888",
          "12.969888",
          "12.969888",
          "12.969888",
          "12.971221"
         ],
         "lon": [
          "77.648735",
          "77.64834",
          "77.64834",
          "77.64834",
          "77.64834",
          "77.64834",
          "77.64834",
          "77.64834",
          "77.665245",
          "77.665245",
          "77.69827",
          "77.69827",
          "77.69827",
          "77.69827",
          "77.69827",
          "77.69827",
          "77.69827",
          "77.665245",
          "77.665245",
          "77.648476",
          "77.648476",
          "77.648476",
          "77.648476",
          "77.648476",
          "77.648476",
          "80.19783",
          "80.193375",
          "80.193375",
          "80.193375",
          "80.193375",
          "80.193375",
          "80.193375",
          "80.193375",
          "77.64892",
          "77.64837",
          "77.64837",
          "77.64837",
          "77.64837",
          "77.64837",
          "77.64837",
          "77.64837",
          "77.648346",
          "77.648346",
          "77.648346",
          "77.64914",
          "77.64839",
          "77.64839",
          "77.64839",
          "77.64839",
          "77.64839",
          "77.64839",
          "77.64834",
          "77.64834",
          "77.64895",
          "77.64895",
          "77.64895",
          "77.64895",
          "77.64895",
          "77.64895",
          "77.64836",
          "77.6483",
          "77.6483",
          "77.6483",
          "77.6483",
          "77.6483",
          "77.6483",
          "77.6483",
          "77.6483",
          "77.64835",
          "77.6514",
          "77.6514",
          "77.64835",
          "77.533806",
          "77.5338",
          "77.5338",
          "77.53378",
          "77.53378",
          "77.53378",
          "77.53378",
          "77.53378",
          "77.53378",
          "77.53378",
          "77.53378",
          "77.53378",
          "77.64823",
          "77.64914",
          "77.64914",
          "77.64914",
          "77.64914",
          "77.64914",
          "77.64914",
          "77.64838",
          "77.62402",
          "77.62402",
          "77.62402",
          "77.62402",
          "77.62402",
          "77.62402",
          "77.62402",
          "77.62402",
          "77.62402",
          "77.62402",
          "77.62402",
          "77.62402",
          "77.62402",
          "77.62402",
          "77.62402",
          "77.64835",
          "77.64835",
          "77.64835",
          "77.64835",
          "77.64835",
          "77.64835",
          "77.64835",
          "77.64835",
          "77.64835",
          "77.64835",
          "77.648346",
          "77.648346",
          "77.648346",
          "77.64855",
          "77.64855",
          "77.64855",
          "77.64855",
          "77.64855",
          "77.64855",
          "77.6489",
          "77.62402",
          "77.62402",
          "77.62402",
          "77.62402",
          "77.64835",
          "77.25092",
          "77.21625",
          "77.64699",
          "77.648346",
          "77.64833",
          "77.64834",
          "77.64832",
          "77.64832",
          "77.64832",
          "77.64832",
          "77.64832",
          "77.64832",
          "77.64832",
          "77.648346",
          "77.648346",
          "77.648346",
          "77.648346",
          "77.648346",
          "77.648346",
          "77.648346",
          "77.648346",
          "77.648346",
          "77.648346",
          "77.648346",
          "77.648346",
          "77.648346",
          "77.648346",
          "77.648346",
          "77.648346",
          "77.648346",
          "77.648346",
          "77.648346",
          "77.648346",
          "77.64835",
          "77.64836",
          "77.64836",
          "77.64836",
          "77.64836",
          "77.64836",
          "77.64836",
          "77.649185",
          "77.64879",
          "77.64879",
          "77.64879",
          "77.64879",
          "77.64879",
          "77.64879",
          "77.64868",
          "77.597435",
          "77.597435",
          "77.597435",
          "77.597435",
          "77.597435",
          "77.597435",
          "77.59816"
         ],
         "mode": "markers",
         "text": [
          "Unknown,Unknown ,App_Open",
          "Unknown,Unknown ,ScanPay_Button_Press",
          "HSR Layout,Bengaluru ,Pay_Remarks_Fill",
          "HSR Layout,Bengaluru ,Pay_Button_Press",
          "HSR Layout,Bengaluru ,Txn_Status_Change",
          "HSR Layout,Bengaluru ,Txn_Status_Change",
          "HSR Layout,Bengaluru ,Txn_Status_Change",
          "HSR Layout,Bengaluru ,Txn_Status_Button_Press",
          "Bellandur,Bengaluru ,App_Open",
          "Bellandur,Bengaluru ,LetsGo_Button_Press",
          "null,Bengaluru ,Login",
          "null,Bengaluru ,LoginResponse",
          "null,Bengaluru ,Login",
          "null,Bengaluru ,LoginResponse",
          "null,Bengaluru ,Unlock_Button_Press",
          "null,Bengaluru ,Unlock_Button_Press",
          "null,Bengaluru ,Unlock_Button_Press",
          "Bellandur,Bengaluru ,App_Open",
          "Bellandur,Bengaluru ,LetsGo_Button_Press",
          "HSR Layout,Bengaluru ,Login",
          "HSR Layout,Bengaluru ,LoginResponse",
          "HSR Layout,Bengaluru ,Unlock_Button_Press",
          "HSR Layout,Bengaluru ,Unlock_Button_Press",
          "HSR Layout,Bengaluru ,Unlock_Button_Press",
          "HSR Layout,Bengaluru ,App_Open",
          "Perumbakkam,Chennai ,App_Open",
          "Alandur,Chennai ,ScanPay_Button_Press",
          "Alandur,Chennai ,Pay_Remarks_Fill",
          "Alandur,Chennai ,Pay_Button_Press",
          "Alandur,Chennai ,Txn_Status_Change",
          "Alandur,Chennai ,Txn_Status_Change",
          "Alandur,Chennai ,Txn_Status_Change",
          "Alandur,Chennai ,Txn_Status_Button_Press",
          "HSR Layout,Bengaluru ,App_Open",
          "HSR Layout,Bengaluru ,ScanPay_Button_Press",
          "HSR Layout,Bengaluru ,Pay_Button_Press",
          "HSR Layout,Bengaluru ,Txn_Status_Change",
          "HSR Layout,Bengaluru ,Txn_Status_Change",
          "HSR Layout,Bengaluru ,Txn_Status_Change",
          "HSR Layout,Bengaluru ,Txn_Status_Button_Press",
          "HSR Layout,Bengaluru ,App_Open",
          "HSR Layout,Bengaluru ,ScanPay_Button_Press",
          "HSR Layout,Bengaluru ,TransferBank_Button_Press",
          "HSR Layout,Bengaluru ,App_Open",
          "HSR Layout,Bengaluru ,App_Open",
          "HSR Layout,Bengaluru ,ScanPay_Button_Press",
          "HSR Layout,Bengaluru ,Pay_Button_Press",
          "HSR Layout,Bengaluru ,Txn_Status_Change",
          "HSR Layout,Bengaluru ,Txn_Status_Change",
          "HSR Layout,Bengaluru ,Txn_Status_Change",
          "HSR Layout,Bengaluru ,Txn_Status_Button_Press",
          "HSR Layout,Bengaluru ,App_Open",
          "HSR Layout,Bengaluru ,ScanPay_Button_Press",
          "HSR Layout,Bengaluru ,Pay_Remarks_Fill",
          "HSR Layout,Bengaluru ,Pay_Button_Press",
          "HSR Layout,Bengaluru ,Txn_Status_Change",
          "HSR Layout,Bengaluru ,Txn_Status_Change",
          "HSR Layout,Bengaluru ,Txn_Status_Change",
          "HSR Layout,Bengaluru ,Txn_Status_Button_Press",
          "HSR Layout,Bengaluru ,App_Open",
          "HSR Layout,Bengaluru ,App_Open",
          "HSR Layout,Bengaluru ,ScanPay_Button_Press",
          "HSR Layout,Bengaluru ,Pay_Button_Press",
          "HSR Layout,Bengaluru ,Txn_Status_Change",
          "HSR Layout,Bengaluru ,Txn_Status_Change",
          "HSR Layout,Bengaluru ,Txn_Status_Change",
          "HSR Layout,Bengaluru ,Txn_Status_Button_Press",
          "HSR Layout,Bengaluru ,App_Open",
          "HSR Layout,Bengaluru ,App_Open",
          "HSR Layout,Bengaluru ,Unlock_Button_Press",
          "HSR Layout,Bengaluru ,Unlock_Button_Press",
          "HSR Layout,Bengaluru ,App_Open",
          "Basaweshwara Nagar,Bengaluru ,App_Open",
          "Basaweshwara Nagar,Bengaluru ,TransferBank_Button_Press",
          "Basaweshwara Nagar,Bengaluru ,Pay_Button_Press",
          "Basaweshwara Nagar,Bengaluru ,Txn_Status_Change",
          "Basaweshwara Nagar,Bengaluru ,Txn_Status_Change",
          "Basaweshwara Nagar,Bengaluru ,Txn_Status_Button_Press",
          "Basaweshwara Nagar,Bengaluru ,ScanPay_Button_Press",
          "Basaweshwara Nagar,Bengaluru ,Pay_Remarks_Fill",
          "Basaweshwara Nagar,Bengaluru ,Pay_Button_Press",
          "Basaweshwara Nagar,Bengaluru ,Txn_Status_Change",
          "Basaweshwara Nagar,Bengaluru ,Txn_Status_Change",
          "Basaweshwara Nagar,Bengaluru ,Txn_Status_Button_Press",
          "HSR Layout,Bengaluru ,App_Open",
          "HSR Layout,Bengaluru ,ScanPay_Button_Press",
          "HSR Layout,Bengaluru ,Pay_Remarks_Fill",
          "HSR Layout,Bengaluru ,Pay_Button_Press",
          "HSR Layout,Bengaluru ,Txn_Status_Change",
          "HSR Layout,Bengaluru ,Txn_Status_Change",
          "HSR Layout,Bengaluru ,Txn_Status_Change",
          "HSR Layout,Bengaluru ,App_Open",
          "Bommanahalli,Bengaluru ,TransferBank_Button_Press",
          "Bommanahalli,Bengaluru ,Pay_Button_Press",
          "Bommanahalli,Bengaluru ,Txn_Status_Change",
          "Bommanahalli,Bengaluru ,Txn_Status_Change",
          "Bommanahalli,Bengaluru ,TransferBank_Button_Press",
          "Bommanahalli,Bengaluru ,Pay_Button_Press",
          "Bommanahalli,Bengaluru ,Txn_Status_Change",
          "Bommanahalli,Bengaluru ,Txn_Status_Change",
          "Bommanahalli,Bengaluru ,Txn_Status_Button_Press",
          "Bommanahalli,Bengaluru ,TransferBank_Button_Press",
          "Bommanahalli,Bengaluru ,ScanPay_Button_Press",
          "Bommanahalli,Bengaluru ,App_Open",
          "Bommanahalli,Bengaluru ,ScanPay_Button_Press",
          "Bommanahalli,Bengaluru ,TransferBank_Button_Press",
          "Bommanahalli,Bengaluru ,App_Open",
          "HSR Layout,Bengaluru ,TransferBank_Button_Press",
          "HSR Layout,Bengaluru ,Pay_Button_Press",
          "HSR Layout,Bengaluru ,Txn_Status_Change",
          "HSR Layout,Bengaluru ,Txn_Status_Change",
          "HSR Layout,Bengaluru ,Txn_Status_Button_Press",
          "HSR Layout,Bengaluru ,TransferBank_Button_Press",
          "HSR Layout,Bengaluru ,Pay_Button_Press",
          "HSR Layout,Bengaluru ,Txn_Status_Change",
          "HSR Layout,Bengaluru ,Txn_Status_Change",
          "HSR Layout,Bengaluru ,Txn_Status_Change",
          "HSR Layout,Bengaluru ,Txn_Status_Change",
          "HSR Layout,Bengaluru ,Txn_Status_Button_Press",
          "HSR Layout,Bengaluru ,App_Open",
          "Unknown,Unknown ,ScanPay_Button_Press",
          "HSR Layout,Bengaluru ,Pay_Button_Press",
          "HSR Layout,Bengaluru ,Txn_Status_Change",
          "HSR Layout,Bengaluru ,Txn_Status_Change",
          "HSR Layout,Bengaluru ,Txn_Status_Change",
          "HSR Layout,Bengaluru ,Txn_Status_Button_Press",
          "HSR Layout,Bengaluru ,App_Open",
          "Bommanahalli,Bengaluru ,App_Open",
          "Bommanahalli,Bengaluru ,Login",
          "Bommanahalli,Bengaluru ,LoginResponse",
          "Bommanahalli,Bengaluru ,TransferBank_Button_Press",
          "HSR Layout,Bengaluru ,App_Open",
          "Nizamuddin East,New Delhi ,App_Open",
          "null,New Delhi ,ScanPay_Button_Press",
          "HSR Layout,Bengaluru ,App_Open",
          "HSR Layout,Bengaluru ,App_Open",
          "HSR Layout,Bengaluru ,App_Open",
          "HSR Layout,Bengaluru ,App_Open",
          "HSR Layout,Bengaluru ,TransferBank_Button_Press",
          "HSR Layout,Bengaluru ,TransferBank_Button_Press",
          "HSR Layout,Bengaluru ,App_Open",
          "HSR Layout,Bengaluru ,App_Open",
          "HSR Layout,Bengaluru ,App_Open",
          "HSR Layout,Bengaluru ,App_Open",
          "HSR Layout,Bengaluru ,App_Open",
          "HSR Layout,Bengaluru ,App_Open",
          "HSR Layout,Bengaluru ,App_Open",
          "HSR Layout,Bengaluru ,App_Open",
          "HSR Layout,Bengaluru ,App_Open",
          "HSR Layout,Bengaluru ,App_Open",
          "HSR Layout,Bengaluru ,App_Open",
          "HSR Layout,Bengaluru ,App_Open",
          "HSR Layout,Bengaluru ,App_Open",
          "HSR Layout,Bengaluru ,App_Open",
          "HSR Layout,Bengaluru ,App_Open",
          "HSR Layout,Bengaluru ,App_Open",
          "HSR Layout,Bengaluru ,TransferBank_Button_Press",
          "HSR Layout,Bengaluru ,ScanPay_Button_Press",
          "HSR Layout,Bengaluru ,Pay_Remarks_Fill",
          "HSR Layout,Bengaluru ,Pay_Button_Press",
          "HSR Layout,Bengaluru ,Txn_Status_Change",
          "HSR Layout,Bengaluru ,Txn_Status_Change",
          "HSR Layout,Bengaluru ,Txn_Status_Change",
          "HSR Layout,Bengaluru ,Txn_Status_Button_Press",
          "HSR Layout,Bengaluru ,App_Open",
          "HSR Layout,Bengaluru ,App_Open",
          "HSR Layout,Bengaluru ,ScanPay_Button_Press",
          "HSR Layout,Bengaluru ,Pay_Button_Press",
          "HSR Layout,Bengaluru ,Txn_Status_Change",
          "HSR Layout,Bengaluru ,Txn_Status_Change",
          "HSR Layout,Bengaluru ,Txn_Status_Change",
          "HSR Layout,Bengaluru ,Txn_Status_Button_Press",
          "HSR Layout,Bengaluru ,App_Open",
          "HSR Layout,Bengaluru ,ScanPay_Button_Press",
          "HSR Layout,Bengaluru ,Pay_Button_Press",
          "HSR Layout,Bengaluru ,Txn_Status_Change",
          "HSR Layout,Bengaluru ,Txn_Status_Change",
          "HSR Layout,Bengaluru ,Txn_Status_Change",
          "HSR Layout,Bengaluru ,Txn_Status_Button_Press",
          "HSR Layout,Bengaluru ,ScanPay_Button_Press",
          "Ashok Nagar,Bengaluru ,Pay_Remarks_Fill",
          "Ashok Nagar,Bengaluru ,Pay_Button_Press",
          "Ashok Nagar,Bengaluru ,Txn_Status_Change",
          "Ashok Nagar,Bengaluru ,Txn_Status_Change",
          "Ashok Nagar,Bengaluru ,Txn_Status_Change",
          "Ashok Nagar,Bengaluru ,Txn_Status_Button_Press",
          "null,Bengaluru ,App_Open"
         ],
         "type": "scattergeo"
        }
       ],
       "layout": {
        "geo": {
         "countrywidth": 0.5,
         "landcolor": "rgb(250, 250, 250)",
         "scope": "asia",
         "showland": true,
         "subunitwidth": 0.5
        },
        "template": {
         "data": {
          "bar": [
           {
            "error_x": {
             "color": "#2a3f5f"
            },
            "error_y": {
             "color": "#2a3f5f"
            },
            "marker": {
             "line": {
              "color": "#E5ECF6",
              "width": 0.5
             }
            },
            "type": "bar"
           }
          ],
          "barpolar": [
           {
            "marker": {
             "line": {
              "color": "#E5ECF6",
              "width": 0.5
             }
            },
            "type": "barpolar"
           }
          ],
          "carpet": [
           {
            "aaxis": {
             "endlinecolor": "#2a3f5f",
             "gridcolor": "white",
             "linecolor": "white",
             "minorgridcolor": "white",
             "startlinecolor": "#2a3f5f"
            },
            "baxis": {
             "endlinecolor": "#2a3f5f",
             "gridcolor": "white",
             "linecolor": "white",
             "minorgridcolor": "white",
             "startlinecolor": "#2a3f5f"
            },
            "type": "carpet"
           }
          ],
          "choropleth": [
           {
            "colorbar": {
             "outlinewidth": 0,
             "ticks": ""
            },
            "type": "choropleth"
           }
          ],
          "contour": [
           {
            "colorbar": {
             "outlinewidth": 0,
             "ticks": ""
            },
            "colorscale": [
             [
              0,
              "#0d0887"
             ],
             [
              0.1111111111111111,
              "#46039f"
             ],
             [
              0.2222222222222222,
              "#7201a8"
             ],
             [
              0.3333333333333333,
              "#9c179e"
             ],
             [
              0.4444444444444444,
              "#bd3786"
             ],
             [
              0.5555555555555556,
              "#d8576b"
             ],
             [
              0.6666666666666666,
              "#ed7953"
             ],
             [
              0.7777777777777778,
              "#fb9f3a"
             ],
             [
              0.8888888888888888,
              "#fdca26"
             ],
             [
              1,
              "#f0f921"
             ]
            ],
            "type": "contour"
           }
          ],
          "contourcarpet": [
           {
            "colorbar": {
             "outlinewidth": 0,
             "ticks": ""
            },
            "type": "contourcarpet"
           }
          ],
          "heatmap": [
           {
            "colorbar": {
             "outlinewidth": 0,
             "ticks": ""
            },
            "colorscale": [
             [
              0,
              "#0d0887"
             ],
             [
              0.1111111111111111,
              "#46039f"
             ],
             [
              0.2222222222222222,
              "#7201a8"
             ],
             [
              0.3333333333333333,
              "#9c179e"
             ],
             [
              0.4444444444444444,
              "#bd3786"
             ],
             [
              0.5555555555555556,
              "#d8576b"
             ],
             [
              0.6666666666666666,
              "#ed7953"
             ],
             [
              0.7777777777777778,
              "#fb9f3a"
             ],
             [
              0.8888888888888888,
              "#fdca26"
             ],
             [
              1,
              "#f0f921"
             ]
            ],
            "type": "heatmap"
           }
          ],
          "heatmapgl": [
           {
            "colorbar": {
             "outlinewidth": 0,
             "ticks": ""
            },
            "colorscale": [
             [
              0,
              "#0d0887"
             ],
             [
              0.1111111111111111,
              "#46039f"
             ],
             [
              0.2222222222222222,
              "#7201a8"
             ],
             [
              0.3333333333333333,
              "#9c179e"
             ],
             [
              0.4444444444444444,
              "#bd3786"
             ],
             [
              0.5555555555555556,
              "#d8576b"
             ],
             [
              0.6666666666666666,
              "#ed7953"
             ],
             [
              0.7777777777777778,
              "#fb9f3a"
             ],
             [
              0.8888888888888888,
              "#fdca26"
             ],
             [
              1,
              "#f0f921"
             ]
            ],
            "type": "heatmapgl"
           }
          ],
          "histogram": [
           {
            "marker": {
             "colorbar": {
              "outlinewidth": 0,
              "ticks": ""
             }
            },
            "type": "histogram"
           }
          ],
          "histogram2d": [
           {
            "colorbar": {
             "outlinewidth": 0,
             "ticks": ""
            },
            "colorscale": [
             [
              0,
              "#0d0887"
             ],
             [
              0.1111111111111111,
              "#46039f"
             ],
             [
              0.2222222222222222,
              "#7201a8"
             ],
             [
              0.3333333333333333,
              "#9c179e"
             ],
             [
              0.4444444444444444,
              "#bd3786"
             ],
             [
              0.5555555555555556,
              "#d8576b"
             ],
             [
              0.6666666666666666,
              "#ed7953"
             ],
             [
              0.7777777777777778,
              "#fb9f3a"
             ],
             [
              0.8888888888888888,
              "#fdca26"
             ],
             [
              1,
              "#f0f921"
             ]
            ],
            "type": "histogram2d"
           }
          ],
          "histogram2dcontour": [
           {
            "colorbar": {
             "outlinewidth": 0,
             "ticks": ""
            },
            "colorscale": [
             [
              0,
              "#0d0887"
             ],
             [
              0.1111111111111111,
              "#46039f"
             ],
             [
              0.2222222222222222,
              "#7201a8"
             ],
             [
              0.3333333333333333,
              "#9c179e"
             ],
             [
              0.4444444444444444,
              "#bd3786"
             ],
             [
              0.5555555555555556,
              "#d8576b"
             ],
             [
              0.6666666666666666,
              "#ed7953"
             ],
             [
              0.7777777777777778,
              "#fb9f3a"
             ],
             [
              0.8888888888888888,
              "#fdca26"
             ],
             [
              1,
              "#f0f921"
             ]
            ],
            "type": "histogram2dcontour"
           }
          ],
          "mesh3d": [
           {
            "colorbar": {
             "outlinewidth": 0,
             "ticks": ""
            },
            "type": "mesh3d"
           }
          ],
          "parcoords": [
           {
            "line": {
             "colorbar": {
              "outlinewidth": 0,
              "ticks": ""
             }
            },
            "type": "parcoords"
           }
          ],
          "pie": [
           {
            "automargin": true,
            "type": "pie"
           }
          ],
          "scatter": [
           {
            "marker": {
             "colorbar": {
              "outlinewidth": 0,
              "ticks": ""
             }
            },
            "type": "scatter"
           }
          ],
          "scatter3d": [
           {
            "line": {
             "colorbar": {
              "outlinewidth": 0,
              "ticks": ""
             }
            },
            "marker": {
             "colorbar": {
              "outlinewidth": 0,
              "ticks": ""
             }
            },
            "type": "scatter3d"
           }
          ],
          "scattercarpet": [
           {
            "marker": {
             "colorbar": {
              "outlinewidth": 0,
              "ticks": ""
             }
            },
            "type": "scattercarpet"
           }
          ],
          "scattergeo": [
           {
            "marker": {
             "colorbar": {
              "outlinewidth": 0,
              "ticks": ""
             }
            },
            "type": "scattergeo"
           }
          ],
          "scattergl": [
           {
            "marker": {
             "colorbar": {
              "outlinewidth": 0,
              "ticks": ""
             }
            },
            "type": "scattergl"
           }
          ],
          "scattermapbox": [
           {
            "marker": {
             "colorbar": {
              "outlinewidth": 0,
              "ticks": ""
             }
            },
            "type": "scattermapbox"
           }
          ],
          "scatterpolar": [
           {
            "marker": {
             "colorbar": {
              "outlinewidth": 0,
              "ticks": ""
             }
            },
            "type": "scatterpolar"
           }
          ],
          "scatterpolargl": [
           {
            "marker": {
             "colorbar": {
              "outlinewidth": 0,
              "ticks": ""
             }
            },
            "type": "scatterpolargl"
           }
          ],
          "scatterternary": [
           {
            "marker": {
             "colorbar": {
              "outlinewidth": 0,
              "ticks": ""
             }
            },
            "type": "scatterternary"
           }
          ],
          "surface": [
           {
            "colorbar": {
             "outlinewidth": 0,
             "ticks": ""
            },
            "colorscale": [
             [
              0,
              "#0d0887"
             ],
             [
              0.1111111111111111,
              "#46039f"
             ],
             [
              0.2222222222222222,
              "#7201a8"
             ],
             [
              0.3333333333333333,
              "#9c179e"
             ],
             [
              0.4444444444444444,
              "#bd3786"
             ],
             [
              0.5555555555555556,
              "#d8576b"
             ],
             [
              0.6666666666666666,
              "#ed7953"
             ],
             [
              0.7777777777777778,
              "#fb9f3a"
             ],
             [
              0.8888888888888888,
              "#fdca26"
             ],
             [
              1,
              "#f0f921"
             ]
            ],
            "type": "surface"
           }
          ],
          "table": [
           {
            "cells": {
             "fill": {
              "color": "#EBF0F8"
             },
             "line": {
              "color": "white"
             }
            },
            "header": {
             "fill": {
              "color": "#C8D4E3"
             },
             "line": {
              "color": "white"
             }
            },
            "type": "table"
           }
          ]
         },
         "layout": {
          "annotationdefaults": {
           "arrowcolor": "#2a3f5f",
           "arrowhead": 0,
           "arrowwidth": 1
          },
          "coloraxis": {
           "colorbar": {
            "outlinewidth": 0,
            "ticks": ""
           }
          },
          "colorscale": {
           "diverging": [
            [
             0,
             "#8e0152"
            ],
            [
             0.1,
             "#c51b7d"
            ],
            [
             0.2,
             "#de77ae"
            ],
            [
             0.3,
             "#f1b6da"
            ],
            [
             0.4,
             "#fde0ef"
            ],
            [
             0.5,
             "#f7f7f7"
            ],
            [
             0.6,
             "#e6f5d0"
            ],
            [
             0.7,
             "#b8e186"
            ],
            [
             0.8,
             "#7fbc41"
            ],
            [
             0.9,
             "#4d9221"
            ],
            [
             1,
             "#276419"
            ]
           ],
           "sequential": [
            [
             0,
             "#0d0887"
            ],
            [
             0.1111111111111111,
             "#46039f"
            ],
            [
             0.2222222222222222,
             "#7201a8"
            ],
            [
             0.3333333333333333,
             "#9c179e"
            ],
            [
             0.4444444444444444,
             "#bd3786"
            ],
            [
             0.5555555555555556,
             "#d8576b"
            ],
            [
             0.6666666666666666,
             "#ed7953"
            ],
            [
             0.7777777777777778,
             "#fb9f3a"
            ],
            [
             0.8888888888888888,
             "#fdca26"
            ],
            [
             1,
             "#f0f921"
            ]
           ],
           "sequentialminus": [
            [
             0,
             "#0d0887"
            ],
            [
             0.1111111111111111,
             "#46039f"
            ],
            [
             0.2222222222222222,
             "#7201a8"
            ],
            [
             0.3333333333333333,
             "#9c179e"
            ],
            [
             0.4444444444444444,
             "#bd3786"
            ],
            [
             0.5555555555555556,
             "#d8576b"
            ],
            [
             0.6666666666666666,
             "#ed7953"
            ],
            [
             0.7777777777777778,
             "#fb9f3a"
            ],
            [
             0.8888888888888888,
             "#fdca26"
            ],
            [
             1,
             "#f0f921"
            ]
           ]
          },
          "colorway": [
           "#636efa",
           "#EF553B",
           "#00cc96",
           "#ab63fa",
           "#FFA15A",
           "#19d3f3",
           "#FF6692",
           "#B6E880",
           "#FF97FF",
           "#FECB52"
          ],
          "font": {
           "color": "#2a3f5f"
          },
          "geo": {
           "bgcolor": "white",
           "lakecolor": "white",
           "landcolor": "#E5ECF6",
           "showlakes": true,
           "showland": true,
           "subunitcolor": "white"
          },
          "hoverlabel": {
           "align": "left"
          },
          "hovermode": "closest",
          "mapbox": {
           "style": "light"
          },
          "paper_bgcolor": "white",
          "plot_bgcolor": "#E5ECF6",
          "polar": {
           "angularaxis": {
            "gridcolor": "white",
            "linecolor": "white",
            "ticks": ""
           },
           "bgcolor": "#E5ECF6",
           "radialaxis": {
            "gridcolor": "white",
            "linecolor": "white",
            "ticks": ""
           }
          },
          "scene": {
           "xaxis": {
            "backgroundcolor": "#E5ECF6",
            "gridcolor": "white",
            "gridwidth": 2,
            "linecolor": "white",
            "showbackground": true,
            "ticks": "",
            "zerolinecolor": "white"
           },
           "yaxis": {
            "backgroundcolor": "#E5ECF6",
            "gridcolor": "white",
            "gridwidth": 2,
            "linecolor": "white",
            "showbackground": true,
            "ticks": "",
            "zerolinecolor": "white"
           },
           "zaxis": {
            "backgroundcolor": "#E5ECF6",
            "gridcolor": "white",
            "gridwidth": 2,
            "linecolor": "white",
            "showbackground": true,
            "ticks": "",
            "zerolinecolor": "white"
           }
          },
          "shapedefaults": {
           "line": {
            "color": "#2a3f5f"
           }
          },
          "ternary": {
           "aaxis": {
            "gridcolor": "white",
            "linecolor": "white",
            "ticks": ""
           },
           "baxis": {
            "gridcolor": "white",
            "linecolor": "white",
            "ticks": ""
           },
           "bgcolor": "#E5ECF6",
           "caxis": {
            "gridcolor": "white",
            "linecolor": "white",
            "ticks": ""
           }
          },
          "title": {
           "x": 0.05
          },
          "xaxis": {
           "automargin": true,
           "gridcolor": "white",
           "linecolor": "white",
           "ticks": "",
           "title": {
            "standoff": 15
           },
           "zerolinecolor": "white",
           "zerolinewidth": 2
          },
          "yaxis": {
           "automargin": true,
           "gridcolor": "white",
           "linecolor": "white",
           "ticks": "",
           "title": {
            "standoff": 15
           },
           "zerolinecolor": "white",
           "zerolinewidth": 2
          }
         }
        },
        "title": {
         "text": "Action <br>(Hover for location and action)"
        }
       }
      },
      "text/html": [
       "<div>\n",
       "        \n",
       "        \n",
       "            <div id=\"3b154380-e5ce-48bc-9b24-f02b6260997f\" class=\"plotly-graph-div\" style=\"height:525px; width:100%;\"></div>\n",
       "            <script type=\"text/javascript\">\n",
       "                require([\"plotly\"], function(Plotly) {\n",
       "                    window.PLOTLYENV=window.PLOTLYENV || {};\n",
       "                    \n",
       "                if (document.getElementById(\"3b154380-e5ce-48bc-9b24-f02b6260997f\")) {\n",
       "                    Plotly.newPlot(\n",
       "                        '3b154380-e5ce-48bc-9b24-f02b6260997f',\n",
       "                        [{\"lat\": [\"12.912157\", \"12.904184\", \"12.904184\", \"12.904184\", \"12.904184\", \"12.904184\", \"12.904184\", \"12.904184\", \"12.935067\", \"12.935067\", \"12.933046\", \"12.933046\", \"12.933046\", \"12.933046\", \"12.933046\", \"12.933046\", \"12.933046\", \"12.935067\", \"12.935067\", \"12.904092\", \"12.904092\", \"12.904092\", \"12.904092\", \"12.904092\", \"12.904092\", \"12.89216\", \"12.995841\", \"12.995841\", \"12.995841\", \"12.995841\", \"12.995841\", \"12.995841\", \"12.995841\", \"12.906392\", \"12.904115\", \"12.904115\", \"12.904115\", \"12.904115\", \"12.904115\", \"12.904115\", \"12.904115\", \"12.904112\", \"12.904112\", \"12.904112\", \"12.904304\", \"12.904157\", \"12.904157\", \"12.904157\", \"12.904157\", \"12.904157\", \"12.904157\", \"12.904119\", \"12.904119\", \"12.905\", \"12.905\", \"12.905\", \"12.905\", \"12.905\", \"12.905\", \"12.904102\", \"12.904098\", \"12.904098\", \"12.904098\", \"12.904098\", \"12.904098\", \"12.904098\", \"12.904098\", \"12.904098\", \"12.90412\", \"12.923093\", \"12.923093\", \"12.904103\", \"12.994455\", \"12.994457\", \"12.994457\", \"12.994434\", \"12.994434\", \"12.994434\", \"12.994434\", \"12.994434\", \"12.994434\", \"12.994434\", \"12.994434\", \"12.994434\", \"12.904171\", \"12.904304\", \"12.904304\", \"12.904304\", \"12.904304\", \"12.904304\", \"12.904304\", \"12.904108\", \"12.911546\", \"12.911546\", \"12.911546\", \"12.911546\", \"12.911546\", \"12.911546\", \"12.911546\", \"12.911546\", \"12.911546\", \"12.911546\", \"12.911546\", \"12.911546\", \"12.911546\", \"12.911546\", \"12.911546\", \"12.904103\", \"12.904103\", \"12.904103\", \"12.904103\", \"12.904103\", \"12.904103\", \"12.904103\", \"12.904103\", \"12.904103\", \"12.904103\", \"12.904111\", \"12.904111\", \"12.904111\", \"12.904229\", \"12.904229\", \"12.904229\", \"12.904229\", \"12.904229\", \"12.904229\", \"12.9038725\", \"12.911546\", \"12.911546\", \"12.911546\", \"12.911546\", \"12.904104\", \"28.589586\", \"28.60065\", \"12.904554\", \"12.904111\", \"12.904102\", \"12.904109\", \"12.904112\", \"12.904112\", \"12.904112\", \"12.904112\", \"12.904112\", \"12.904112\", \"12.904112\", \"12.904111\", \"12.904111\", \"12.904111\", \"12.904111\", \"12.904111\", \"12.904111\", \"12.904111\", \"12.904111\", \"12.904111\", \"12.904111\", \"12.904111\", \"12.904111\", \"12.904111\", \"12.904111\", \"12.904111\", \"12.904111\", \"12.904111\", \"12.904111\", \"12.904111\", \"12.904111\", \"12.904103\", \"12.904112\", \"12.904112\", \"12.904112\", \"12.904112\", \"12.904112\", \"12.904112\", \"12.907483\", \"12.904005\", \"12.904005\", \"12.904005\", \"12.904005\", \"12.904005\", \"12.904005\", \"12.903851\", \"12.969888\", \"12.969888\", \"12.969888\", \"12.969888\", \"12.969888\", \"12.969888\", \"12.971221\"], \"lon\": [\"77.648735\", \"77.64834\", \"77.64834\", \"77.64834\", \"77.64834\", \"77.64834\", \"77.64834\", \"77.64834\", \"77.665245\", \"77.665245\", \"77.69827\", \"77.69827\", \"77.69827\", \"77.69827\", \"77.69827\", \"77.69827\", \"77.69827\", \"77.665245\", \"77.665245\", \"77.648476\", \"77.648476\", \"77.648476\", \"77.648476\", \"77.648476\", \"77.648476\", \"80.19783\", \"80.193375\", \"80.193375\", \"80.193375\", \"80.193375\", \"80.193375\", \"80.193375\", \"80.193375\", \"77.64892\", \"77.64837\", \"77.64837\", \"77.64837\", \"77.64837\", \"77.64837\", \"77.64837\", \"77.64837\", \"77.648346\", \"77.648346\", \"77.648346\", \"77.64914\", \"77.64839\", \"77.64839\", \"77.64839\", \"77.64839\", \"77.64839\", \"77.64839\", \"77.64834\", \"77.64834\", \"77.64895\", \"77.64895\", \"77.64895\", \"77.64895\", \"77.64895\", \"77.64895\", \"77.64836\", \"77.6483\", \"77.6483\", \"77.6483\", \"77.6483\", \"77.6483\", \"77.6483\", \"77.6483\", \"77.6483\", \"77.64835\", \"77.6514\", \"77.6514\", \"77.64835\", \"77.533806\", \"77.5338\", \"77.5338\", \"77.53378\", \"77.53378\", \"77.53378\", \"77.53378\", \"77.53378\", \"77.53378\", \"77.53378\", \"77.53378\", \"77.53378\", \"77.64823\", \"77.64914\", \"77.64914\", \"77.64914\", \"77.64914\", \"77.64914\", \"77.64914\", \"77.64838\", \"77.62402\", \"77.62402\", \"77.62402\", \"77.62402\", \"77.62402\", \"77.62402\", \"77.62402\", \"77.62402\", \"77.62402\", \"77.62402\", \"77.62402\", \"77.62402\", \"77.62402\", \"77.62402\", \"77.62402\", \"77.64835\", \"77.64835\", \"77.64835\", \"77.64835\", \"77.64835\", \"77.64835\", \"77.64835\", \"77.64835\", \"77.64835\", \"77.64835\", \"77.648346\", \"77.648346\", \"77.648346\", \"77.64855\", \"77.64855\", \"77.64855\", \"77.64855\", \"77.64855\", \"77.64855\", \"77.6489\", \"77.62402\", \"77.62402\", \"77.62402\", \"77.62402\", \"77.64835\", \"77.25092\", \"77.21625\", \"77.64699\", \"77.648346\", \"77.64833\", \"77.64834\", \"77.64832\", \"77.64832\", \"77.64832\", \"77.64832\", \"77.64832\", \"77.64832\", \"77.64832\", \"77.648346\", \"77.648346\", \"77.648346\", \"77.648346\", \"77.648346\", \"77.648346\", \"77.648346\", \"77.648346\", \"77.648346\", \"77.648346\", \"77.648346\", \"77.648346\", \"77.648346\", \"77.648346\", \"77.648346\", \"77.648346\", \"77.648346\", \"77.648346\", \"77.648346\", \"77.648346\", \"77.64835\", \"77.64836\", \"77.64836\", \"77.64836\", \"77.64836\", \"77.64836\", \"77.64836\", \"77.649185\", \"77.64879\", \"77.64879\", \"77.64879\", \"77.64879\", \"77.64879\", \"77.64879\", \"77.64868\", \"77.597435\", \"77.597435\", \"77.597435\", \"77.597435\", \"77.597435\", \"77.597435\", \"77.59816\"], \"mode\": \"markers\", \"text\": [\"Unknown,Unknown ,App_Open\", \"Unknown,Unknown ,ScanPay_Button_Press\", \"HSR Layout,Bengaluru ,Pay_Remarks_Fill\", \"HSR Layout,Bengaluru ,Pay_Button_Press\", \"HSR Layout,Bengaluru ,Txn_Status_Change\", \"HSR Layout,Bengaluru ,Txn_Status_Change\", \"HSR Layout,Bengaluru ,Txn_Status_Change\", \"HSR Layout,Bengaluru ,Txn_Status_Button_Press\", \"Bellandur,Bengaluru ,App_Open\", \"Bellandur,Bengaluru ,LetsGo_Button_Press\", \"null,Bengaluru ,Login\", \"null,Bengaluru ,LoginResponse\", \"null,Bengaluru ,Login\", \"null,Bengaluru ,LoginResponse\", \"null,Bengaluru ,Unlock_Button_Press\", \"null,Bengaluru ,Unlock_Button_Press\", \"null,Bengaluru ,Unlock_Button_Press\", \"Bellandur,Bengaluru ,App_Open\", \"Bellandur,Bengaluru ,LetsGo_Button_Press\", \"HSR Layout,Bengaluru ,Login\", \"HSR Layout,Bengaluru ,LoginResponse\", \"HSR Layout,Bengaluru ,Unlock_Button_Press\", \"HSR Layout,Bengaluru ,Unlock_Button_Press\", \"HSR Layout,Bengaluru ,Unlock_Button_Press\", \"HSR Layout,Bengaluru ,App_Open\", \"Perumbakkam,Chennai ,App_Open\", \"Alandur,Chennai ,ScanPay_Button_Press\", \"Alandur,Chennai ,Pay_Remarks_Fill\", \"Alandur,Chennai ,Pay_Button_Press\", \"Alandur,Chennai ,Txn_Status_Change\", \"Alandur,Chennai ,Txn_Status_Change\", \"Alandur,Chennai ,Txn_Status_Change\", \"Alandur,Chennai ,Txn_Status_Button_Press\", \"HSR Layout,Bengaluru ,App_Open\", \"HSR Layout,Bengaluru ,ScanPay_Button_Press\", \"HSR Layout,Bengaluru ,Pay_Button_Press\", \"HSR Layout,Bengaluru ,Txn_Status_Change\", \"HSR Layout,Bengaluru ,Txn_Status_Change\", \"HSR Layout,Bengaluru ,Txn_Status_Change\", \"HSR Layout,Bengaluru ,Txn_Status_Button_Press\", \"HSR Layout,Bengaluru ,App_Open\", \"HSR Layout,Bengaluru ,ScanPay_Button_Press\", \"HSR Layout,Bengaluru ,TransferBank_Button_Press\", \"HSR Layout,Bengaluru ,App_Open\", \"HSR Layout,Bengaluru ,App_Open\", \"HSR Layout,Bengaluru ,ScanPay_Button_Press\", \"HSR Layout,Bengaluru ,Pay_Button_Press\", \"HSR Layout,Bengaluru ,Txn_Status_Change\", \"HSR Layout,Bengaluru ,Txn_Status_Change\", \"HSR Layout,Bengaluru ,Txn_Status_Change\", \"HSR Layout,Bengaluru ,Txn_Status_Button_Press\", \"HSR Layout,Bengaluru ,App_Open\", \"HSR Layout,Bengaluru ,ScanPay_Button_Press\", \"HSR Layout,Bengaluru ,Pay_Remarks_Fill\", \"HSR Layout,Bengaluru ,Pay_Button_Press\", \"HSR Layout,Bengaluru ,Txn_Status_Change\", \"HSR Layout,Bengaluru ,Txn_Status_Change\", \"HSR Layout,Bengaluru ,Txn_Status_Change\", \"HSR Layout,Bengaluru ,Txn_Status_Button_Press\", \"HSR Layout,Bengaluru ,App_Open\", \"HSR Layout,Bengaluru ,App_Open\", \"HSR Layout,Bengaluru ,ScanPay_Button_Press\", \"HSR Layout,Bengaluru ,Pay_Button_Press\", \"HSR Layout,Bengaluru ,Txn_Status_Change\", \"HSR Layout,Bengaluru ,Txn_Status_Change\", \"HSR Layout,Bengaluru ,Txn_Status_Change\", \"HSR Layout,Bengaluru ,Txn_Status_Button_Press\", \"HSR Layout,Bengaluru ,App_Open\", \"HSR Layout,Bengaluru ,App_Open\", \"HSR Layout,Bengaluru ,Unlock_Button_Press\", \"HSR Layout,Bengaluru ,Unlock_Button_Press\", \"HSR Layout,Bengaluru ,App_Open\", \"Basaweshwara Nagar,Bengaluru ,App_Open\", \"Basaweshwara Nagar,Bengaluru ,TransferBank_Button_Press\", \"Basaweshwara Nagar,Bengaluru ,Pay_Button_Press\", \"Basaweshwara Nagar,Bengaluru ,Txn_Status_Change\", \"Basaweshwara Nagar,Bengaluru ,Txn_Status_Change\", \"Basaweshwara Nagar,Bengaluru ,Txn_Status_Button_Press\", \"Basaweshwara Nagar,Bengaluru ,ScanPay_Button_Press\", \"Basaweshwara Nagar,Bengaluru ,Pay_Remarks_Fill\", \"Basaweshwara Nagar,Bengaluru ,Pay_Button_Press\", \"Basaweshwara Nagar,Bengaluru ,Txn_Status_Change\", \"Basaweshwara Nagar,Bengaluru ,Txn_Status_Change\", \"Basaweshwara Nagar,Bengaluru ,Txn_Status_Button_Press\", \"HSR Layout,Bengaluru ,App_Open\", \"HSR Layout,Bengaluru ,ScanPay_Button_Press\", \"HSR Layout,Bengaluru ,Pay_Remarks_Fill\", \"HSR Layout,Bengaluru ,Pay_Button_Press\", \"HSR Layout,Bengaluru ,Txn_Status_Change\", \"HSR Layout,Bengaluru ,Txn_Status_Change\", \"HSR Layout,Bengaluru ,Txn_Status_Change\", \"HSR Layout,Bengaluru ,App_Open\", \"Bommanahalli,Bengaluru ,TransferBank_Button_Press\", \"Bommanahalli,Bengaluru ,Pay_Button_Press\", \"Bommanahalli,Bengaluru ,Txn_Status_Change\", \"Bommanahalli,Bengaluru ,Txn_Status_Change\", \"Bommanahalli,Bengaluru ,TransferBank_Button_Press\", \"Bommanahalli,Bengaluru ,Pay_Button_Press\", \"Bommanahalli,Bengaluru ,Txn_Status_Change\", \"Bommanahalli,Bengaluru ,Txn_Status_Change\", \"Bommanahalli,Bengaluru ,Txn_Status_Button_Press\", \"Bommanahalli,Bengaluru ,TransferBank_Button_Press\", \"Bommanahalli,Bengaluru ,ScanPay_Button_Press\", \"Bommanahalli,Bengaluru ,App_Open\", \"Bommanahalli,Bengaluru ,ScanPay_Button_Press\", \"Bommanahalli,Bengaluru ,TransferBank_Button_Press\", \"Bommanahalli,Bengaluru ,App_Open\", \"HSR Layout,Bengaluru ,TransferBank_Button_Press\", \"HSR Layout,Bengaluru ,Pay_Button_Press\", \"HSR Layout,Bengaluru ,Txn_Status_Change\", \"HSR Layout,Bengaluru ,Txn_Status_Change\", \"HSR Layout,Bengaluru ,Txn_Status_Button_Press\", \"HSR Layout,Bengaluru ,TransferBank_Button_Press\", \"HSR Layout,Bengaluru ,Pay_Button_Press\", \"HSR Layout,Bengaluru ,Txn_Status_Change\", \"HSR Layout,Bengaluru ,Txn_Status_Change\", \"HSR Layout,Bengaluru ,Txn_Status_Change\", \"HSR Layout,Bengaluru ,Txn_Status_Change\", \"HSR Layout,Bengaluru ,Txn_Status_Button_Press\", \"HSR Layout,Bengaluru ,App_Open\", \"Unknown,Unknown ,ScanPay_Button_Press\", \"HSR Layout,Bengaluru ,Pay_Button_Press\", \"HSR Layout,Bengaluru ,Txn_Status_Change\", \"HSR Layout,Bengaluru ,Txn_Status_Change\", \"HSR Layout,Bengaluru ,Txn_Status_Change\", \"HSR Layout,Bengaluru ,Txn_Status_Button_Press\", \"HSR Layout,Bengaluru ,App_Open\", \"Bommanahalli,Bengaluru ,App_Open\", \"Bommanahalli,Bengaluru ,Login\", \"Bommanahalli,Bengaluru ,LoginResponse\", \"Bommanahalli,Bengaluru ,TransferBank_Button_Press\", \"HSR Layout,Bengaluru ,App_Open\", \"Nizamuddin East,New Delhi ,App_Open\", \"null,New Delhi ,ScanPay_Button_Press\", \"HSR Layout,Bengaluru ,App_Open\", \"HSR Layout,Bengaluru ,App_Open\", \"HSR Layout,Bengaluru ,App_Open\", \"HSR Layout,Bengaluru ,App_Open\", \"HSR Layout,Bengaluru ,TransferBank_Button_Press\", \"HSR Layout,Bengaluru ,TransferBank_Button_Press\", \"HSR Layout,Bengaluru ,App_Open\", \"HSR Layout,Bengaluru ,App_Open\", \"HSR Layout,Bengaluru ,App_Open\", \"HSR Layout,Bengaluru ,App_Open\", \"HSR Layout,Bengaluru ,App_Open\", \"HSR Layout,Bengaluru ,App_Open\", \"HSR Layout,Bengaluru ,App_Open\", \"HSR Layout,Bengaluru ,App_Open\", \"HSR Layout,Bengaluru ,App_Open\", \"HSR Layout,Bengaluru ,App_Open\", \"HSR Layout,Bengaluru ,App_Open\", \"HSR Layout,Bengaluru ,App_Open\", \"HSR Layout,Bengaluru ,App_Open\", \"HSR Layout,Bengaluru ,App_Open\", \"HSR Layout,Bengaluru ,App_Open\", \"HSR Layout,Bengaluru ,App_Open\", \"HSR Layout,Bengaluru ,TransferBank_Button_Press\", \"HSR Layout,Bengaluru ,ScanPay_Button_Press\", \"HSR Layout,Bengaluru ,Pay_Remarks_Fill\", \"HSR Layout,Bengaluru ,Pay_Button_Press\", \"HSR Layout,Bengaluru ,Txn_Status_Change\", \"HSR Layout,Bengaluru ,Txn_Status_Change\", \"HSR Layout,Bengaluru ,Txn_Status_Change\", \"HSR Layout,Bengaluru ,Txn_Status_Button_Press\", \"HSR Layout,Bengaluru ,App_Open\", \"HSR Layout,Bengaluru ,App_Open\", \"HSR Layout,Bengaluru ,ScanPay_Button_Press\", \"HSR Layout,Bengaluru ,Pay_Button_Press\", \"HSR Layout,Bengaluru ,Txn_Status_Change\", \"HSR Layout,Bengaluru ,Txn_Status_Change\", \"HSR Layout,Bengaluru ,Txn_Status_Change\", \"HSR Layout,Bengaluru ,Txn_Status_Button_Press\", \"HSR Layout,Bengaluru ,App_Open\", \"HSR Layout,Bengaluru ,ScanPay_Button_Press\", \"HSR Layout,Bengaluru ,Pay_Button_Press\", \"HSR Layout,Bengaluru ,Txn_Status_Change\", \"HSR Layout,Bengaluru ,Txn_Status_Change\", \"HSR Layout,Bengaluru ,Txn_Status_Change\", \"HSR Layout,Bengaluru ,Txn_Status_Button_Press\", \"HSR Layout,Bengaluru ,ScanPay_Button_Press\", \"Ashok Nagar,Bengaluru ,Pay_Remarks_Fill\", \"Ashok Nagar,Bengaluru ,Pay_Button_Press\", \"Ashok Nagar,Bengaluru ,Txn_Status_Change\", \"Ashok Nagar,Bengaluru ,Txn_Status_Change\", \"Ashok Nagar,Bengaluru ,Txn_Status_Change\", \"Ashok Nagar,Bengaluru ,Txn_Status_Button_Press\", \"null,Bengaluru ,App_Open\"], \"type\": \"scattergeo\"}],\n",
       "                        {\"geo\": {\"countrywidth\": 0.5, \"landcolor\": \"rgb(250, 250, 250)\", \"scope\": \"asia\", \"showland\": true, \"subunitwidth\": 0.5}, \"template\": {\"data\": {\"bar\": [{\"error_x\": {\"color\": \"#2a3f5f\"}, \"error_y\": {\"color\": \"#2a3f5f\"}, \"marker\": {\"line\": {\"color\": \"#E5ECF6\", \"width\": 0.5}}, \"type\": \"bar\"}], \"barpolar\": [{\"marker\": {\"line\": {\"color\": \"#E5ECF6\", \"width\": 0.5}}, \"type\": \"barpolar\"}], \"carpet\": [{\"aaxis\": {\"endlinecolor\": \"#2a3f5f\", \"gridcolor\": \"white\", \"linecolor\": \"white\", \"minorgridcolor\": \"white\", \"startlinecolor\": \"#2a3f5f\"}, \"baxis\": {\"endlinecolor\": \"#2a3f5f\", \"gridcolor\": \"white\", \"linecolor\": \"white\", \"minorgridcolor\": \"white\", \"startlinecolor\": \"#2a3f5f\"}, \"type\": \"carpet\"}], \"choropleth\": [{\"colorbar\": {\"outlinewidth\": 0, \"ticks\": \"\"}, \"type\": \"choropleth\"}], \"contour\": [{\"colorbar\": {\"outlinewidth\": 0, \"ticks\": \"\"}, \"colorscale\": [[0.0, \"#0d0887\"], [0.1111111111111111, \"#46039f\"], [0.2222222222222222, \"#7201a8\"], [0.3333333333333333, \"#9c179e\"], [0.4444444444444444, \"#bd3786\"], [0.5555555555555556, \"#d8576b\"], [0.6666666666666666, \"#ed7953\"], [0.7777777777777778, \"#fb9f3a\"], [0.8888888888888888, \"#fdca26\"], [1.0, \"#f0f921\"]], \"type\": \"contour\"}], \"contourcarpet\": [{\"colorbar\": {\"outlinewidth\": 0, \"ticks\": \"\"}, \"type\": \"contourcarpet\"}], \"heatmap\": [{\"colorbar\": {\"outlinewidth\": 0, \"ticks\": \"\"}, \"colorscale\": [[0.0, \"#0d0887\"], [0.1111111111111111, \"#46039f\"], [0.2222222222222222, \"#7201a8\"], [0.3333333333333333, \"#9c179e\"], [0.4444444444444444, \"#bd3786\"], [0.5555555555555556, \"#d8576b\"], [0.6666666666666666, \"#ed7953\"], [0.7777777777777778, \"#fb9f3a\"], [0.8888888888888888, \"#fdca26\"], [1.0, \"#f0f921\"]], \"type\": \"heatmap\"}], \"heatmapgl\": [{\"colorbar\": {\"outlinewidth\": 0, \"ticks\": \"\"}, \"colorscale\": [[0.0, \"#0d0887\"], [0.1111111111111111, \"#46039f\"], [0.2222222222222222, \"#7201a8\"], [0.3333333333333333, \"#9c179e\"], [0.4444444444444444, \"#bd3786\"], [0.5555555555555556, \"#d8576b\"], [0.6666666666666666, \"#ed7953\"], [0.7777777777777778, \"#fb9f3a\"], [0.8888888888888888, \"#fdca26\"], [1.0, \"#f0f921\"]], \"type\": \"heatmapgl\"}], \"histogram\": [{\"marker\": {\"colorbar\": {\"outlinewidth\": 0, \"ticks\": \"\"}}, \"type\": \"histogram\"}], \"histogram2d\": [{\"colorbar\": {\"outlinewidth\": 0, \"ticks\": \"\"}, \"colorscale\": [[0.0, \"#0d0887\"], [0.1111111111111111, \"#46039f\"], [0.2222222222222222, \"#7201a8\"], [0.3333333333333333, \"#9c179e\"], [0.4444444444444444, \"#bd3786\"], [0.5555555555555556, \"#d8576b\"], [0.6666666666666666, \"#ed7953\"], [0.7777777777777778, \"#fb9f3a\"], [0.8888888888888888, \"#fdca26\"], [1.0, \"#f0f921\"]], \"type\": \"histogram2d\"}], \"histogram2dcontour\": [{\"colorbar\": {\"outlinewidth\": 0, \"ticks\": \"\"}, \"colorscale\": [[0.0, \"#0d0887\"], [0.1111111111111111, \"#46039f\"], [0.2222222222222222, \"#7201a8\"], [0.3333333333333333, \"#9c179e\"], [0.4444444444444444, \"#bd3786\"], [0.5555555555555556, \"#d8576b\"], [0.6666666666666666, \"#ed7953\"], [0.7777777777777778, \"#fb9f3a\"], [0.8888888888888888, \"#fdca26\"], [1.0, \"#f0f921\"]], \"type\": \"histogram2dcontour\"}], \"mesh3d\": [{\"colorbar\": {\"outlinewidth\": 0, \"ticks\": \"\"}, \"type\": \"mesh3d\"}], \"parcoords\": [{\"line\": {\"colorbar\": {\"outlinewidth\": 0, \"ticks\": \"\"}}, \"type\": \"parcoords\"}], \"pie\": [{\"automargin\": true, \"type\": \"pie\"}], \"scatter\": [{\"marker\": {\"colorbar\": {\"outlinewidth\": 0, \"ticks\": \"\"}}, \"type\": \"scatter\"}], \"scatter3d\": [{\"line\": {\"colorbar\": {\"outlinewidth\": 0, \"ticks\": \"\"}}, \"marker\": {\"colorbar\": {\"outlinewidth\": 0, \"ticks\": \"\"}}, \"type\": \"scatter3d\"}], \"scattercarpet\": [{\"marker\": {\"colorbar\": {\"outlinewidth\": 0, \"ticks\": \"\"}}, \"type\": \"scattercarpet\"}], \"scattergeo\": [{\"marker\": {\"colorbar\": {\"outlinewidth\": 0, \"ticks\": \"\"}}, \"type\": \"scattergeo\"}], \"scattergl\": [{\"marker\": {\"colorbar\": {\"outlinewidth\": 0, \"ticks\": \"\"}}, \"type\": \"scattergl\"}], \"scattermapbox\": [{\"marker\": {\"colorbar\": {\"outlinewidth\": 0, \"ticks\": \"\"}}, \"type\": \"scattermapbox\"}], \"scatterpolar\": [{\"marker\": {\"colorbar\": {\"outlinewidth\": 0, \"ticks\": \"\"}}, \"type\": \"scatterpolar\"}], \"scatterpolargl\": [{\"marker\": {\"colorbar\": {\"outlinewidth\": 0, \"ticks\": \"\"}}, \"type\": \"scatterpolargl\"}], \"scatterternary\": [{\"marker\": {\"colorbar\": {\"outlinewidth\": 0, \"ticks\": \"\"}}, \"type\": \"scatterternary\"}], \"surface\": [{\"colorbar\": {\"outlinewidth\": 0, \"ticks\": \"\"}, \"colorscale\": [[0.0, \"#0d0887\"], [0.1111111111111111, \"#46039f\"], [0.2222222222222222, \"#7201a8\"], [0.3333333333333333, \"#9c179e\"], [0.4444444444444444, \"#bd3786\"], [0.5555555555555556, \"#d8576b\"], [0.6666666666666666, \"#ed7953\"], [0.7777777777777778, \"#fb9f3a\"], [0.8888888888888888, \"#fdca26\"], [1.0, \"#f0f921\"]], \"type\": \"surface\"}], \"table\": [{\"cells\": {\"fill\": {\"color\": \"#EBF0F8\"}, \"line\": {\"color\": \"white\"}}, \"header\": {\"fill\": {\"color\": \"#C8D4E3\"}, \"line\": {\"color\": \"white\"}}, \"type\": \"table\"}]}, \"layout\": {\"annotationdefaults\": {\"arrowcolor\": \"#2a3f5f\", \"arrowhead\": 0, \"arrowwidth\": 1}, \"coloraxis\": {\"colorbar\": {\"outlinewidth\": 0, \"ticks\": \"\"}}, \"colorscale\": {\"diverging\": [[0, \"#8e0152\"], [0.1, \"#c51b7d\"], [0.2, \"#de77ae\"], [0.3, \"#f1b6da\"], [0.4, \"#fde0ef\"], [0.5, \"#f7f7f7\"], [0.6, \"#e6f5d0\"], [0.7, \"#b8e186\"], [0.8, \"#7fbc41\"], [0.9, \"#4d9221\"], [1, \"#276419\"]], \"sequential\": [[0.0, \"#0d0887\"], [0.1111111111111111, \"#46039f\"], [0.2222222222222222, \"#7201a8\"], [0.3333333333333333, \"#9c179e\"], [0.4444444444444444, \"#bd3786\"], [0.5555555555555556, \"#d8576b\"], [0.6666666666666666, \"#ed7953\"], [0.7777777777777778, \"#fb9f3a\"], [0.8888888888888888, \"#fdca26\"], [1.0, \"#f0f921\"]], \"sequentialminus\": [[0.0, \"#0d0887\"], [0.1111111111111111, \"#46039f\"], [0.2222222222222222, \"#7201a8\"], [0.3333333333333333, \"#9c179e\"], [0.4444444444444444, \"#bd3786\"], [0.5555555555555556, \"#d8576b\"], [0.6666666666666666, \"#ed7953\"], [0.7777777777777778, \"#fb9f3a\"], [0.8888888888888888, \"#fdca26\"], [1.0, \"#f0f921\"]]}, \"colorway\": [\"#636efa\", \"#EF553B\", \"#00cc96\", \"#ab63fa\", \"#FFA15A\", \"#19d3f3\", \"#FF6692\", \"#B6E880\", \"#FF97FF\", \"#FECB52\"], \"font\": {\"color\": \"#2a3f5f\"}, \"geo\": {\"bgcolor\": \"white\", \"lakecolor\": \"white\", \"landcolor\": \"#E5ECF6\", \"showlakes\": true, \"showland\": true, \"subunitcolor\": \"white\"}, \"hoverlabel\": {\"align\": \"left\"}, \"hovermode\": \"closest\", \"mapbox\": {\"style\": \"light\"}, \"paper_bgcolor\": \"white\", \"plot_bgcolor\": \"#E5ECF6\", \"polar\": {\"angularaxis\": {\"gridcolor\": \"white\", \"linecolor\": \"white\", \"ticks\": \"\"}, \"bgcolor\": \"#E5ECF6\", \"radialaxis\": {\"gridcolor\": \"white\", \"linecolor\": \"white\", \"ticks\": \"\"}}, \"scene\": {\"xaxis\": {\"backgroundcolor\": \"#E5ECF6\", \"gridcolor\": \"white\", \"gridwidth\": 2, \"linecolor\": \"white\", \"showbackground\": true, \"ticks\": \"\", \"zerolinecolor\": \"white\"}, \"yaxis\": {\"backgroundcolor\": \"#E5ECF6\", \"gridcolor\": \"white\", \"gridwidth\": 2, \"linecolor\": \"white\", \"showbackground\": true, \"ticks\": \"\", \"zerolinecolor\": \"white\"}, \"zaxis\": {\"backgroundcolor\": \"#E5ECF6\", \"gridcolor\": \"white\", \"gridwidth\": 2, \"linecolor\": \"white\", \"showbackground\": true, \"ticks\": \"\", \"zerolinecolor\": \"white\"}}, \"shapedefaults\": {\"line\": {\"color\": \"#2a3f5f\"}}, \"ternary\": {\"aaxis\": {\"gridcolor\": \"white\", \"linecolor\": \"white\", \"ticks\": \"\"}, \"baxis\": {\"gridcolor\": \"white\", \"linecolor\": \"white\", \"ticks\": \"\"}, \"bgcolor\": \"#E5ECF6\", \"caxis\": {\"gridcolor\": \"white\", \"linecolor\": \"white\", \"ticks\": \"\"}}, \"title\": {\"x\": 0.05}, \"xaxis\": {\"automargin\": true, \"gridcolor\": \"white\", \"linecolor\": \"white\", \"ticks\": \"\", \"title\": {\"standoff\": 15}, \"zerolinecolor\": \"white\", \"zerolinewidth\": 2}, \"yaxis\": {\"automargin\": true, \"gridcolor\": \"white\", \"linecolor\": \"white\", \"ticks\": \"\", \"title\": {\"standoff\": 15}, \"zerolinecolor\": \"white\", \"zerolinewidth\": 2}}}, \"title\": {\"text\": \"Action <br>(Hover for location and action)\"}},\n",
       "                        {\"responsive\": true}\n",
       "                    ).then(function(){\n",
       "                            \n",
       "var gd = document.getElementById('3b154380-e5ce-48bc-9b24-f02b6260997f');\n",
       "var x = new MutationObserver(function (mutations, observer) {{\n",
       "        var display = window.getComputedStyle(gd).display;\n",
       "        if (!display || display === 'none') {{\n",
       "            console.log([gd, 'removed!']);\n",
       "            Plotly.purge(gd);\n",
       "            observer.disconnect();\n",
       "        }}\n",
       "}});\n",
       "\n",
       "// Listen for the removal of the full notebook cells\n",
       "var notebookContainer = gd.closest('#notebook-container');\n",
       "if (notebookContainer) {{\n",
       "    x.observe(notebookContainer, {childList: true});\n",
       "}}\n",
       "\n",
       "// Listen for the clearing of the current output cell\n",
       "var outputEl = gd.closest('.output');\n",
       "if (outputEl) {{\n",
       "    x.observe(outputEl, {childList: true});\n",
       "}}\n",
       "\n",
       "                        })\n",
       "                };\n",
       "                });\n",
       "            </script>\n",
       "        </div>"
      ]
     },
     "metadata": {},
     "output_type": "display_data"
    }
   ],
   "source": [
    "fig.show()"
   ]
  },
  {
   "cell_type": "code",
   "execution_count": 20,
   "metadata": {
    "scrolled": true
   },
   "outputs": [
    {
     "name": "stdout",
     "output_type": "stream",
     "text": [
      "max no of actions in one session 21\n",
      "avg no of actions in one session 6.310344827586207\n",
      "min no of actions in one session 1\n"
     ]
    }
   ],
   "source": [
    "actn_session()"
   ]
  },
  {
   "cell_type": "code",
   "execution_count": 24,
   "metadata": {
    "scrolled": true
   },
   "outputs": [
    {
     "name": "stdout",
     "output_type": "stream",
     "text": [
      "Action percentage for App_Open is : '24.59016393442623'\n",
      "Action percentage for ScanPay_Button_Press is : '9.289617486338798'\n",
      "Action percentage for Pay_Remarks_Fill is : '3.825136612021858'\n",
      "Action percentage for Pay_Button_Press is : '9.836065573770492'\n",
      "Action percentage for Txn_Status_Change is : '27.322404371584703'\n",
      "Action percentage for Txn_Status_Button_Press is : '8.743169398907105'\n",
      "Action percentage for LetsGo_Button_Press is : '1.092896174863388'\n",
      "Action percentage for Login is : '2.185792349726776'\n",
      "Action percentage for LoginResponse is : '2.185792349726776'\n",
      "Action percentage for Unlock_Button_Press is : '4.371584699453552'\n",
      "Action percentage for TransferBank_Button_Press is : '6.557377049180328'\n"
     ]
    }
   ],
   "source": [
    "actn_per(uniq_actn)"
   ]
  },
  {
   "cell_type": "code",
   "execution_count": 44,
   "metadata": {
    "scrolled": true
   },
   "outputs": [
    {
     "data": {
      "application/vnd.plotly.v1+json": {
       "config": {
        "plotlyServerURL": "https://plot.ly"
       },
       "data": [
        {
         "type": "bar",
         "x": [
          "App_Open",
          "ScanPay_Button_Press",
          "Pay_Remarks_Fill",
          "Pay_Button_Press",
          "Txn_Status_Change",
          "Txn_Status_Button_Press",
          "LetsGo_Button_Press",
          "Login",
          "LoginResponse",
          "Unlock_Button_Press",
          "TransferBank_Button_Press"
         ],
         "y": [
          24.59016393442623,
          9.289617486338798,
          3.825136612021858,
          9.836065573770492,
          27.322404371584703,
          8.743169398907105,
          1.092896174863388,
          2.185792349726776,
          2.185792349726776,
          4.371584699453552,
          6.557377049180328
         ]
        }
       ],
       "layout": {
        "template": {
         "data": {
          "bar": [
           {
            "error_x": {
             "color": "#2a3f5f"
            },
            "error_y": {
             "color": "#2a3f5f"
            },
            "marker": {
             "line": {
              "color": "#E5ECF6",
              "width": 0.5
             }
            },
            "type": "bar"
           }
          ],
          "barpolar": [
           {
            "marker": {
             "line": {
              "color": "#E5ECF6",
              "width": 0.5
             }
            },
            "type": "barpolar"
           }
          ],
          "carpet": [
           {
            "aaxis": {
             "endlinecolor": "#2a3f5f",
             "gridcolor": "white",
             "linecolor": "white",
             "minorgridcolor": "white",
             "startlinecolor": "#2a3f5f"
            },
            "baxis": {
             "endlinecolor": "#2a3f5f",
             "gridcolor": "white",
             "linecolor": "white",
             "minorgridcolor": "white",
             "startlinecolor": "#2a3f5f"
            },
            "type": "carpet"
           }
          ],
          "choropleth": [
           {
            "colorbar": {
             "outlinewidth": 0,
             "ticks": ""
            },
            "type": "choropleth"
           }
          ],
          "contour": [
           {
            "colorbar": {
             "outlinewidth": 0,
             "ticks": ""
            },
            "colorscale": [
             [
              0,
              "#0d0887"
             ],
             [
              0.1111111111111111,
              "#46039f"
             ],
             [
              0.2222222222222222,
              "#7201a8"
             ],
             [
              0.3333333333333333,
              "#9c179e"
             ],
             [
              0.4444444444444444,
              "#bd3786"
             ],
             [
              0.5555555555555556,
              "#d8576b"
             ],
             [
              0.6666666666666666,
              "#ed7953"
             ],
             [
              0.7777777777777778,
              "#fb9f3a"
             ],
             [
              0.8888888888888888,
              "#fdca26"
             ],
             [
              1,
              "#f0f921"
             ]
            ],
            "type": "contour"
           }
          ],
          "contourcarpet": [
           {
            "colorbar": {
             "outlinewidth": 0,
             "ticks": ""
            },
            "type": "contourcarpet"
           }
          ],
          "heatmap": [
           {
            "colorbar": {
             "outlinewidth": 0,
             "ticks": ""
            },
            "colorscale": [
             [
              0,
              "#0d0887"
             ],
             [
              0.1111111111111111,
              "#46039f"
             ],
             [
              0.2222222222222222,
              "#7201a8"
             ],
             [
              0.3333333333333333,
              "#9c179e"
             ],
             [
              0.4444444444444444,
              "#bd3786"
             ],
             [
              0.5555555555555556,
              "#d8576b"
             ],
             [
              0.6666666666666666,
              "#ed7953"
             ],
             [
              0.7777777777777778,
              "#fb9f3a"
             ],
             [
              0.8888888888888888,
              "#fdca26"
             ],
             [
              1,
              "#f0f921"
             ]
            ],
            "type": "heatmap"
           }
          ],
          "heatmapgl": [
           {
            "colorbar": {
             "outlinewidth": 0,
             "ticks": ""
            },
            "colorscale": [
             [
              0,
              "#0d0887"
             ],
             [
              0.1111111111111111,
              "#46039f"
             ],
             [
              0.2222222222222222,
              "#7201a8"
             ],
             [
              0.3333333333333333,
              "#9c179e"
             ],
             [
              0.4444444444444444,
              "#bd3786"
             ],
             [
              0.5555555555555556,
              "#d8576b"
             ],
             [
              0.6666666666666666,
              "#ed7953"
             ],
             [
              0.7777777777777778,
              "#fb9f3a"
             ],
             [
              0.8888888888888888,
              "#fdca26"
             ],
             [
              1,
              "#f0f921"
             ]
            ],
            "type": "heatmapgl"
           }
          ],
          "histogram": [
           {
            "marker": {
             "colorbar": {
              "outlinewidth": 0,
              "ticks": ""
             }
            },
            "type": "histogram"
           }
          ],
          "histogram2d": [
           {
            "colorbar": {
             "outlinewidth": 0,
             "ticks": ""
            },
            "colorscale": [
             [
              0,
              "#0d0887"
             ],
             [
              0.1111111111111111,
              "#46039f"
             ],
             [
              0.2222222222222222,
              "#7201a8"
             ],
             [
              0.3333333333333333,
              "#9c179e"
             ],
             [
              0.4444444444444444,
              "#bd3786"
             ],
             [
              0.5555555555555556,
              "#d8576b"
             ],
             [
              0.6666666666666666,
              "#ed7953"
             ],
             [
              0.7777777777777778,
              "#fb9f3a"
             ],
             [
              0.8888888888888888,
              "#fdca26"
             ],
             [
              1,
              "#f0f921"
             ]
            ],
            "type": "histogram2d"
           }
          ],
          "histogram2dcontour": [
           {
            "colorbar": {
             "outlinewidth": 0,
             "ticks": ""
            },
            "colorscale": [
             [
              0,
              "#0d0887"
             ],
             [
              0.1111111111111111,
              "#46039f"
             ],
             [
              0.2222222222222222,
              "#7201a8"
             ],
             [
              0.3333333333333333,
              "#9c179e"
             ],
             [
              0.4444444444444444,
              "#bd3786"
             ],
             [
              0.5555555555555556,
              "#d8576b"
             ],
             [
              0.6666666666666666,
              "#ed7953"
             ],
             [
              0.7777777777777778,
              "#fb9f3a"
             ],
             [
              0.8888888888888888,
              "#fdca26"
             ],
             [
              1,
              "#f0f921"
             ]
            ],
            "type": "histogram2dcontour"
           }
          ],
          "mesh3d": [
           {
            "colorbar": {
             "outlinewidth": 0,
             "ticks": ""
            },
            "type": "mesh3d"
           }
          ],
          "parcoords": [
           {
            "line": {
             "colorbar": {
              "outlinewidth": 0,
              "ticks": ""
             }
            },
            "type": "parcoords"
           }
          ],
          "pie": [
           {
            "automargin": true,
            "type": "pie"
           }
          ],
          "scatter": [
           {
            "marker": {
             "colorbar": {
              "outlinewidth": 0,
              "ticks": ""
             }
            },
            "type": "scatter"
           }
          ],
          "scatter3d": [
           {
            "line": {
             "colorbar": {
              "outlinewidth": 0,
              "ticks": ""
             }
            },
            "marker": {
             "colorbar": {
              "outlinewidth": 0,
              "ticks": ""
             }
            },
            "type": "scatter3d"
           }
          ],
          "scattercarpet": [
           {
            "marker": {
             "colorbar": {
              "outlinewidth": 0,
              "ticks": ""
             }
            },
            "type": "scattercarpet"
           }
          ],
          "scattergeo": [
           {
            "marker": {
             "colorbar": {
              "outlinewidth": 0,
              "ticks": ""
             }
            },
            "type": "scattergeo"
           }
          ],
          "scattergl": [
           {
            "marker": {
             "colorbar": {
              "outlinewidth": 0,
              "ticks": ""
             }
            },
            "type": "scattergl"
           }
          ],
          "scattermapbox": [
           {
            "marker": {
             "colorbar": {
              "outlinewidth": 0,
              "ticks": ""
             }
            },
            "type": "scattermapbox"
           }
          ],
          "scatterpolar": [
           {
            "marker": {
             "colorbar": {
              "outlinewidth": 0,
              "ticks": ""
             }
            },
            "type": "scatterpolar"
           }
          ],
          "scatterpolargl": [
           {
            "marker": {
             "colorbar": {
              "outlinewidth": 0,
              "ticks": ""
             }
            },
            "type": "scatterpolargl"
           }
          ],
          "scatterternary": [
           {
            "marker": {
             "colorbar": {
              "outlinewidth": 0,
              "ticks": ""
             }
            },
            "type": "scatterternary"
           }
          ],
          "surface": [
           {
            "colorbar": {
             "outlinewidth": 0,
             "ticks": ""
            },
            "colorscale": [
             [
              0,
              "#0d0887"
             ],
             [
              0.1111111111111111,
              "#46039f"
             ],
             [
              0.2222222222222222,
              "#7201a8"
             ],
             [
              0.3333333333333333,
              "#9c179e"
             ],
             [
              0.4444444444444444,
              "#bd3786"
             ],
             [
              0.5555555555555556,
              "#d8576b"
             ],
             [
              0.6666666666666666,
              "#ed7953"
             ],
             [
              0.7777777777777778,
              "#fb9f3a"
             ],
             [
              0.8888888888888888,
              "#fdca26"
             ],
             [
              1,
              "#f0f921"
             ]
            ],
            "type": "surface"
           }
          ],
          "table": [
           {
            "cells": {
             "fill": {
              "color": "#EBF0F8"
             },
             "line": {
              "color": "white"
             }
            },
            "header": {
             "fill": {
              "color": "#C8D4E3"
             },
             "line": {
              "color": "white"
             }
            },
            "type": "table"
           }
          ]
         },
         "layout": {
          "annotationdefaults": {
           "arrowcolor": "#2a3f5f",
           "arrowhead": 0,
           "arrowwidth": 1
          },
          "coloraxis": {
           "colorbar": {
            "outlinewidth": 0,
            "ticks": ""
           }
          },
          "colorscale": {
           "diverging": [
            [
             0,
             "#8e0152"
            ],
            [
             0.1,
             "#c51b7d"
            ],
            [
             0.2,
             "#de77ae"
            ],
            [
             0.3,
             "#f1b6da"
            ],
            [
             0.4,
             "#fde0ef"
            ],
            [
             0.5,
             "#f7f7f7"
            ],
            [
             0.6,
             "#e6f5d0"
            ],
            [
             0.7,
             "#b8e186"
            ],
            [
             0.8,
             "#7fbc41"
            ],
            [
             0.9,
             "#4d9221"
            ],
            [
             1,
             "#276419"
            ]
           ],
           "sequential": [
            [
             0,
             "#0d0887"
            ],
            [
             0.1111111111111111,
             "#46039f"
            ],
            [
             0.2222222222222222,
             "#7201a8"
            ],
            [
             0.3333333333333333,
             "#9c179e"
            ],
            [
             0.4444444444444444,
             "#bd3786"
            ],
            [
             0.5555555555555556,
             "#d8576b"
            ],
            [
             0.6666666666666666,
             "#ed7953"
            ],
            [
             0.7777777777777778,
             "#fb9f3a"
            ],
            [
             0.8888888888888888,
             "#fdca26"
            ],
            [
             1,
             "#f0f921"
            ]
           ],
           "sequentialminus": [
            [
             0,
             "#0d0887"
            ],
            [
             0.1111111111111111,
             "#46039f"
            ],
            [
             0.2222222222222222,
             "#7201a8"
            ],
            [
             0.3333333333333333,
             "#9c179e"
            ],
            [
             0.4444444444444444,
             "#bd3786"
            ],
            [
             0.5555555555555556,
             "#d8576b"
            ],
            [
             0.6666666666666666,
             "#ed7953"
            ],
            [
             0.7777777777777778,
             "#fb9f3a"
            ],
            [
             0.8888888888888888,
             "#fdca26"
            ],
            [
             1,
             "#f0f921"
            ]
           ]
          },
          "colorway": [
           "#636efa",
           "#EF553B",
           "#00cc96",
           "#ab63fa",
           "#FFA15A",
           "#19d3f3",
           "#FF6692",
           "#B6E880",
           "#FF97FF",
           "#FECB52"
          ],
          "font": {
           "color": "#2a3f5f"
          },
          "geo": {
           "bgcolor": "white",
           "lakecolor": "white",
           "landcolor": "#E5ECF6",
           "showlakes": true,
           "showland": true,
           "subunitcolor": "white"
          },
          "hoverlabel": {
           "align": "left"
          },
          "hovermode": "closest",
          "mapbox": {
           "style": "light"
          },
          "paper_bgcolor": "white",
          "plot_bgcolor": "#E5ECF6",
          "polar": {
           "angularaxis": {
            "gridcolor": "white",
            "linecolor": "white",
            "ticks": ""
           },
           "bgcolor": "#E5ECF6",
           "radialaxis": {
            "gridcolor": "white",
            "linecolor": "white",
            "ticks": ""
           }
          },
          "scene": {
           "xaxis": {
            "backgroundcolor": "#E5ECF6",
            "gridcolor": "white",
            "gridwidth": 2,
            "linecolor": "white",
            "showbackground": true,
            "ticks": "",
            "zerolinecolor": "white"
           },
           "yaxis": {
            "backgroundcolor": "#E5ECF6",
            "gridcolor": "white",
            "gridwidth": 2,
            "linecolor": "white",
            "showbackground": true,
            "ticks": "",
            "zerolinecolor": "white"
           },
           "zaxis": {
            "backgroundcolor": "#E5ECF6",
            "gridcolor": "white",
            "gridwidth": 2,
            "linecolor": "white",
            "showbackground": true,
            "ticks": "",
            "zerolinecolor": "white"
           }
          },
          "shapedefaults": {
           "line": {
            "color": "#2a3f5f"
           }
          },
          "ternary": {
           "aaxis": {
            "gridcolor": "white",
            "linecolor": "white",
            "ticks": ""
           },
           "baxis": {
            "gridcolor": "white",
            "linecolor": "white",
            "ticks": ""
           },
           "bgcolor": "#E5ECF6",
           "caxis": {
            "gridcolor": "white",
            "linecolor": "white",
            "ticks": ""
           }
          },
          "title": {
           "x": 0.05
          },
          "xaxis": {
           "automargin": true,
           "gridcolor": "white",
           "linecolor": "white",
           "ticks": "",
           "title": {
            "standoff": 15
           },
           "zerolinecolor": "white",
           "zerolinewidth": 2
          },
          "yaxis": {
           "automargin": true,
           "gridcolor": "white",
           "linecolor": "white",
           "ticks": "",
           "title": {
            "standoff": 15
           },
           "zerolinecolor": "white",
           "zerolinewidth": 2
          }
         }
        }
       }
      },
      "text/html": [
       "<div>\n",
       "        \n",
       "        \n",
       "            <div id=\"754e61c3-9246-495c-b897-e0b84c6dca25\" class=\"plotly-graph-div\" style=\"height:525px; width:100%;\"></div>\n",
       "            <script type=\"text/javascript\">\n",
       "                require([\"plotly\"], function(Plotly) {\n",
       "                    window.PLOTLYENV=window.PLOTLYENV || {};\n",
       "                    \n",
       "                if (document.getElementById(\"754e61c3-9246-495c-b897-e0b84c6dca25\")) {\n",
       "                    Plotly.newPlot(\n",
       "                        '754e61c3-9246-495c-b897-e0b84c6dca25',\n",
       "                        [{\"type\": \"bar\", \"x\": [\"App_Open\", \"ScanPay_Button_Press\", \"Pay_Remarks_Fill\", \"Pay_Button_Press\", \"Txn_Status_Change\", \"Txn_Status_Button_Press\", \"LetsGo_Button_Press\", \"Login\", \"LoginResponse\", \"Unlock_Button_Press\", \"TransferBank_Button_Press\"], \"y\": [24.59016393442623, 9.289617486338798, 3.825136612021858, 9.836065573770492, 27.322404371584703, 8.743169398907105, 1.092896174863388, 2.185792349726776, 2.185792349726776, 4.371584699453552, 6.557377049180328]}],\n",
       "                        {\"template\": {\"data\": {\"bar\": [{\"error_x\": {\"color\": \"#2a3f5f\"}, \"error_y\": {\"color\": \"#2a3f5f\"}, \"marker\": {\"line\": {\"color\": \"#E5ECF6\", \"width\": 0.5}}, \"type\": \"bar\"}], \"barpolar\": [{\"marker\": {\"line\": {\"color\": \"#E5ECF6\", \"width\": 0.5}}, \"type\": \"barpolar\"}], \"carpet\": [{\"aaxis\": {\"endlinecolor\": \"#2a3f5f\", \"gridcolor\": \"white\", \"linecolor\": \"white\", \"minorgridcolor\": \"white\", \"startlinecolor\": \"#2a3f5f\"}, \"baxis\": {\"endlinecolor\": \"#2a3f5f\", \"gridcolor\": \"white\", \"linecolor\": \"white\", \"minorgridcolor\": \"white\", \"startlinecolor\": \"#2a3f5f\"}, \"type\": \"carpet\"}], \"choropleth\": [{\"colorbar\": {\"outlinewidth\": 0, \"ticks\": \"\"}, \"type\": \"choropleth\"}], \"contour\": [{\"colorbar\": {\"outlinewidth\": 0, \"ticks\": \"\"}, \"colorscale\": [[0.0, \"#0d0887\"], [0.1111111111111111, \"#46039f\"], [0.2222222222222222, \"#7201a8\"], [0.3333333333333333, \"#9c179e\"], [0.4444444444444444, \"#bd3786\"], [0.5555555555555556, \"#d8576b\"], [0.6666666666666666, \"#ed7953\"], [0.7777777777777778, \"#fb9f3a\"], [0.8888888888888888, \"#fdca26\"], [1.0, \"#f0f921\"]], \"type\": \"contour\"}], \"contourcarpet\": [{\"colorbar\": {\"outlinewidth\": 0, \"ticks\": \"\"}, \"type\": \"contourcarpet\"}], \"heatmap\": [{\"colorbar\": {\"outlinewidth\": 0, \"ticks\": \"\"}, \"colorscale\": [[0.0, \"#0d0887\"], [0.1111111111111111, \"#46039f\"], [0.2222222222222222, \"#7201a8\"], [0.3333333333333333, \"#9c179e\"], [0.4444444444444444, \"#bd3786\"], [0.5555555555555556, \"#d8576b\"], [0.6666666666666666, \"#ed7953\"], [0.7777777777777778, \"#fb9f3a\"], [0.8888888888888888, \"#fdca26\"], [1.0, \"#f0f921\"]], \"type\": \"heatmap\"}], \"heatmapgl\": [{\"colorbar\": {\"outlinewidth\": 0, \"ticks\": \"\"}, \"colorscale\": [[0.0, \"#0d0887\"], [0.1111111111111111, \"#46039f\"], [0.2222222222222222, \"#7201a8\"], [0.3333333333333333, \"#9c179e\"], [0.4444444444444444, \"#bd3786\"], [0.5555555555555556, \"#d8576b\"], [0.6666666666666666, \"#ed7953\"], [0.7777777777777778, \"#fb9f3a\"], [0.8888888888888888, \"#fdca26\"], [1.0, \"#f0f921\"]], \"type\": \"heatmapgl\"}], \"histogram\": [{\"marker\": {\"colorbar\": {\"outlinewidth\": 0, \"ticks\": \"\"}}, \"type\": \"histogram\"}], \"histogram2d\": [{\"colorbar\": {\"outlinewidth\": 0, \"ticks\": \"\"}, \"colorscale\": [[0.0, \"#0d0887\"], [0.1111111111111111, \"#46039f\"], [0.2222222222222222, \"#7201a8\"], [0.3333333333333333, \"#9c179e\"], [0.4444444444444444, \"#bd3786\"], [0.5555555555555556, \"#d8576b\"], [0.6666666666666666, \"#ed7953\"], [0.7777777777777778, \"#fb9f3a\"], [0.8888888888888888, \"#fdca26\"], [1.0, \"#f0f921\"]], \"type\": \"histogram2d\"}], \"histogram2dcontour\": [{\"colorbar\": {\"outlinewidth\": 0, \"ticks\": \"\"}, \"colorscale\": [[0.0, \"#0d0887\"], [0.1111111111111111, \"#46039f\"], [0.2222222222222222, \"#7201a8\"], [0.3333333333333333, \"#9c179e\"], [0.4444444444444444, \"#bd3786\"], [0.5555555555555556, \"#d8576b\"], [0.6666666666666666, \"#ed7953\"], [0.7777777777777778, \"#fb9f3a\"], [0.8888888888888888, \"#fdca26\"], [1.0, \"#f0f921\"]], \"type\": \"histogram2dcontour\"}], \"mesh3d\": [{\"colorbar\": {\"outlinewidth\": 0, \"ticks\": \"\"}, \"type\": \"mesh3d\"}], \"parcoords\": [{\"line\": {\"colorbar\": {\"outlinewidth\": 0, \"ticks\": \"\"}}, \"type\": \"parcoords\"}], \"pie\": [{\"automargin\": true, \"type\": \"pie\"}], \"scatter\": [{\"marker\": {\"colorbar\": {\"outlinewidth\": 0, \"ticks\": \"\"}}, \"type\": \"scatter\"}], \"scatter3d\": [{\"line\": {\"colorbar\": {\"outlinewidth\": 0, \"ticks\": \"\"}}, \"marker\": {\"colorbar\": {\"outlinewidth\": 0, \"ticks\": \"\"}}, \"type\": \"scatter3d\"}], \"scattercarpet\": [{\"marker\": {\"colorbar\": {\"outlinewidth\": 0, \"ticks\": \"\"}}, \"type\": \"scattercarpet\"}], \"scattergeo\": [{\"marker\": {\"colorbar\": {\"outlinewidth\": 0, \"ticks\": \"\"}}, \"type\": \"scattergeo\"}], \"scattergl\": [{\"marker\": {\"colorbar\": {\"outlinewidth\": 0, \"ticks\": \"\"}}, \"type\": \"scattergl\"}], \"scattermapbox\": [{\"marker\": {\"colorbar\": {\"outlinewidth\": 0, \"ticks\": \"\"}}, \"type\": \"scattermapbox\"}], \"scatterpolar\": [{\"marker\": {\"colorbar\": {\"outlinewidth\": 0, \"ticks\": \"\"}}, \"type\": \"scatterpolar\"}], \"scatterpolargl\": [{\"marker\": {\"colorbar\": {\"outlinewidth\": 0, \"ticks\": \"\"}}, \"type\": \"scatterpolargl\"}], \"scatterternary\": [{\"marker\": {\"colorbar\": {\"outlinewidth\": 0, \"ticks\": \"\"}}, \"type\": \"scatterternary\"}], \"surface\": [{\"colorbar\": {\"outlinewidth\": 0, \"ticks\": \"\"}, \"colorscale\": [[0.0, \"#0d0887\"], [0.1111111111111111, \"#46039f\"], [0.2222222222222222, \"#7201a8\"], [0.3333333333333333, \"#9c179e\"], [0.4444444444444444, \"#bd3786\"], [0.5555555555555556, \"#d8576b\"], [0.6666666666666666, \"#ed7953\"], [0.7777777777777778, \"#fb9f3a\"], [0.8888888888888888, \"#fdca26\"], [1.0, \"#f0f921\"]], \"type\": \"surface\"}], \"table\": [{\"cells\": {\"fill\": {\"color\": \"#EBF0F8\"}, \"line\": {\"color\": \"white\"}}, \"header\": {\"fill\": {\"color\": \"#C8D4E3\"}, \"line\": {\"color\": \"white\"}}, \"type\": \"table\"}]}, \"layout\": {\"annotationdefaults\": {\"arrowcolor\": \"#2a3f5f\", \"arrowhead\": 0, \"arrowwidth\": 1}, \"coloraxis\": {\"colorbar\": {\"outlinewidth\": 0, \"ticks\": \"\"}}, \"colorscale\": {\"diverging\": [[0, \"#8e0152\"], [0.1, \"#c51b7d\"], [0.2, \"#de77ae\"], [0.3, \"#f1b6da\"], [0.4, \"#fde0ef\"], [0.5, \"#f7f7f7\"], [0.6, \"#e6f5d0\"], [0.7, \"#b8e186\"], [0.8, \"#7fbc41\"], [0.9, \"#4d9221\"], [1, \"#276419\"]], \"sequential\": [[0.0, \"#0d0887\"], [0.1111111111111111, \"#46039f\"], [0.2222222222222222, \"#7201a8\"], [0.3333333333333333, \"#9c179e\"], [0.4444444444444444, \"#bd3786\"], [0.5555555555555556, \"#d8576b\"], [0.6666666666666666, \"#ed7953\"], [0.7777777777777778, \"#fb9f3a\"], [0.8888888888888888, \"#fdca26\"], [1.0, \"#f0f921\"]], \"sequentialminus\": [[0.0, \"#0d0887\"], [0.1111111111111111, \"#46039f\"], [0.2222222222222222, \"#7201a8\"], [0.3333333333333333, \"#9c179e\"], [0.4444444444444444, \"#bd3786\"], [0.5555555555555556, \"#d8576b\"], [0.6666666666666666, \"#ed7953\"], [0.7777777777777778, \"#fb9f3a\"], [0.8888888888888888, \"#fdca26\"], [1.0, \"#f0f921\"]]}, \"colorway\": [\"#636efa\", \"#EF553B\", \"#00cc96\", \"#ab63fa\", \"#FFA15A\", \"#19d3f3\", \"#FF6692\", \"#B6E880\", \"#FF97FF\", \"#FECB52\"], \"font\": {\"color\": \"#2a3f5f\"}, \"geo\": {\"bgcolor\": \"white\", \"lakecolor\": \"white\", \"landcolor\": \"#E5ECF6\", \"showlakes\": true, \"showland\": true, \"subunitcolor\": \"white\"}, \"hoverlabel\": {\"align\": \"left\"}, \"hovermode\": \"closest\", \"mapbox\": {\"style\": \"light\"}, \"paper_bgcolor\": \"white\", \"plot_bgcolor\": \"#E5ECF6\", \"polar\": {\"angularaxis\": {\"gridcolor\": \"white\", \"linecolor\": \"white\", \"ticks\": \"\"}, \"bgcolor\": \"#E5ECF6\", \"radialaxis\": {\"gridcolor\": \"white\", \"linecolor\": \"white\", \"ticks\": \"\"}}, \"scene\": {\"xaxis\": {\"backgroundcolor\": \"#E5ECF6\", \"gridcolor\": \"white\", \"gridwidth\": 2, \"linecolor\": \"white\", \"showbackground\": true, \"ticks\": \"\", \"zerolinecolor\": \"white\"}, \"yaxis\": {\"backgroundcolor\": \"#E5ECF6\", \"gridcolor\": \"white\", \"gridwidth\": 2, \"linecolor\": \"white\", \"showbackground\": true, \"ticks\": \"\", \"zerolinecolor\": \"white\"}, \"zaxis\": {\"backgroundcolor\": \"#E5ECF6\", \"gridcolor\": \"white\", \"gridwidth\": 2, \"linecolor\": \"white\", \"showbackground\": true, \"ticks\": \"\", \"zerolinecolor\": \"white\"}}, \"shapedefaults\": {\"line\": {\"color\": \"#2a3f5f\"}}, \"ternary\": {\"aaxis\": {\"gridcolor\": \"white\", \"linecolor\": \"white\", \"ticks\": \"\"}, \"baxis\": {\"gridcolor\": \"white\", \"linecolor\": \"white\", \"ticks\": \"\"}, \"bgcolor\": \"#E5ECF6\", \"caxis\": {\"gridcolor\": \"white\", \"linecolor\": \"white\", \"ticks\": \"\"}}, \"title\": {\"x\": 0.05}, \"xaxis\": {\"automargin\": true, \"gridcolor\": \"white\", \"linecolor\": \"white\", \"ticks\": \"\", \"title\": {\"standoff\": 15}, \"zerolinecolor\": \"white\", \"zerolinewidth\": 2}, \"yaxis\": {\"automargin\": true, \"gridcolor\": \"white\", \"linecolor\": \"white\", \"ticks\": \"\", \"title\": {\"standoff\": 15}, \"zerolinecolor\": \"white\", \"zerolinewidth\": 2}}}},\n",
       "                        {\"responsive\": true}\n",
       "                    ).then(function(){\n",
       "                            \n",
       "var gd = document.getElementById('754e61c3-9246-495c-b897-e0b84c6dca25');\n",
       "var x = new MutationObserver(function (mutations, observer) {{\n",
       "        var display = window.getComputedStyle(gd).display;\n",
       "        if (!display || display === 'none') {{\n",
       "            console.log([gd, 'removed!']);\n",
       "            Plotly.purge(gd);\n",
       "            observer.disconnect();\n",
       "        }}\n",
       "}});\n",
       "\n",
       "// Listen for the removal of the full notebook cells\n",
       "var notebookContainer = gd.closest('#notebook-container');\n",
       "if (notebookContainer) {{\n",
       "    x.observe(notebookContainer, {childList: true});\n",
       "}}\n",
       "\n",
       "// Listen for the clearing of the current output cell\n",
       "var outputEl = gd.closest('.output');\n",
       "if (outputEl) {{\n",
       "    x.observe(outputEl, {childList: true});\n",
       "}}\n",
       "\n",
       "                        })\n",
       "                };\n",
       "                });\n",
       "            </script>\n",
       "        </div>"
      ]
     },
     "metadata": {},
     "output_type": "display_data"
    }
   ],
   "source": [
    "import plotly.graph_objects as go\n",
    "\n",
    "pers = actn_per(uniq_actn)\n",
    "\n",
    "fig = go.Figure([go.Bar(x=uniq_actn, y=pers)])\n",
    "fig.show()"
   ]
  },
  {
   "cell_type": "code",
   "execution_count": 33,
   "metadata": {},
   "outputs": [
    {
     "name": "stdout",
     "output_type": "stream",
     "text": [
      "This is the users_activity session wise\n"
     ]
    },
    {
     "data": {
      "text/plain": [
       "[[('Txn_Status_Change', 4),\n",
       "  ('TransferBank_Button_Press', 4),\n",
       "  ('App_Open', 2),\n",
       "  ('ScanPay_Button_Press', 2),\n",
       "  ('Pay_Button_Press', 2),\n",
       "  ('Txn_Status_Button_Press', 1)],\n",
       " [('Txn_Status_Change', 4),\n",
       "  ('TransferBank_Button_Press', 2),\n",
       "  ('Pay_Button_Press', 2),\n",
       "  ('Txn_Status_Button_Press', 1)],\n",
       " [('Txn_Status_Change', 5),\n",
       "  ('Txn_Status_Button_Press', 2),\n",
       "  ('App_Open', 1),\n",
       "  ('ScanPay_Button_Press', 1),\n",
       "  ('Pay_Button_Press', 1)],\n",
       " [('App_Open', 2),\n",
       "  ('Login', 1),\n",
       "  ('LoginResponse', 1),\n",
       "  ('TransferBank_Button_Press', 1)],\n",
       " [('Unlock_Button_Press', 3)],\n",
       " [('Unlock_Button_Press', 3)],\n",
       " [('App_Open', 1)],\n",
       " [('App_Open', 3)],\n",
       " [('App_Open', 4), ('TransferBank_Button_Press', 2)],\n",
       " [('App_Open', 13),\n",
       "  ('Txn_Status_Change', 3),\n",
       "  ('ScanPay_Button_Press', 1),\n",
       "  ('Pay_Button_Press', 1),\n",
       "  ('Txn_Status_Button_Press', 1),\n",
       "  ('TransferBank_Button_Press', 1),\n",
       "  ('Pay_Remarks_Fill', 1)],\n",
       " [('Txn_Status_Change', 3),\n",
       "  ('App_Open', 1),\n",
       "  ('ScanPay_Button_Press', 1),\n",
       "  ('Txn_Status_Button_Press', 1),\n",
       "  ('Pay_Button_Press', 1),\n",
       "  ('Pay_Remarks_Fill', 1)],\n",
       " [('Txn_Status_Change', 3),\n",
       "  ('App_Open', 1),\n",
       "  ('ScanPay_Button_Press', 1),\n",
       "  ('Pay_Button_Press', 1),\n",
       "  ('Pay_Remarks_Fill', 1)],\n",
       " [('Txn_Status_Change', 3),\n",
       "  ('App_Open', 1),\n",
       "  ('ScanPay_Button_Press', 1),\n",
       "  ('Txn_Status_Button_Press', 1),\n",
       "  ('Pay_Button_Press', 1)],\n",
       " [('App_Open', 1),\n",
       "  ('ScanPay_Button_Press', 1),\n",
       "  ('TransferBank_Button_Press', 1)],\n",
       " [('App_Open', 1)],\n",
       " [('Txn_Status_Change', 3),\n",
       "  ('ScanPay_Button_Press', 1),\n",
       "  ('Txn_Status_Button_Press', 1),\n",
       "  ('Pay_Button_Press', 1)],\n",
       " [('Txn_Status_Change', 3),\n",
       "  ('App_Open', 1),\n",
       "  ('ScanPay_Button_Press', 1),\n",
       "  ('Txn_Status_Button_Press', 1),\n",
       "  ('Pay_Button_Press', 1),\n",
       "  ('Pay_Remarks_Fill', 1)],\n",
       " [('Txn_Status_Change', 3),\n",
       "  ('App_Open', 1),\n",
       "  ('ScanPay_Button_Press', 1),\n",
       "  ('Txn_Status_Button_Press', 1),\n",
       "  ('Pay_Button_Press', 1)],\n",
       " [('Txn_Status_Change', 3),\n",
       "  ('ScanPay_Button_Press', 1),\n",
       "  ('Txn_Status_Button_Press', 1),\n",
       "  ('Pay_Remarks_Fill', 1),\n",
       "  ('Pay_Button_Press', 1)],\n",
       " [('App_Open', 1)],\n",
       " [('Unlock_Button_Press', 2)],\n",
       " [('App_Open', 1)],\n",
       " [('Txn_Status_Change', 4),\n",
       "  ('Txn_Status_Button_Press', 2),\n",
       "  ('Pay_Button_Press', 2),\n",
       "  ('ScanPay_Button_Press', 1),\n",
       "  ('Pay_Remarks_Fill', 1),\n",
       "  ('App_Open', 1),\n",
       "  ('TransferBank_Button_Press', 1)],\n",
       " [('App_Open', 1), ('ScanPay_Button_Press', 1)],\n",
       " [('Txn_Status_Change', 3),\n",
       "  ('App_Open', 2),\n",
       "  ('ScanPay_Button_Press', 1),\n",
       "  ('Txn_Status_Button_Press', 1),\n",
       "  ('Pay_Button_Press', 1)],\n",
       " [('App_Open', 1)],\n",
       " [('Txn_Status_Change', 3),\n",
       "  ('App_Open', 1),\n",
       "  ('ScanPay_Button_Press', 1),\n",
       "  ('Txn_Status_Button_Press', 1),\n",
       "  ('Pay_Button_Press', 1),\n",
       "  ('Pay_Remarks_Fill', 1)],\n",
       " [('Txn_Status_Change', 3),\n",
       "  ('App_Open', 1),\n",
       "  ('ScanPay_Button_Press', 1),\n",
       "  ('Txn_Status_Button_Press', 1),\n",
       "  ('Pay_Button_Press', 1)],\n",
       " [('App_Open', 1)],\n",
       " [('Login', 2),\n",
       "  ('LoginResponse', 2),\n",
       "  ('App_Open', 1),\n",
       "  ('LetsGo_Button_Press', 1)],\n",
       " [('Login', 1),\n",
       "  ('App_Open', 1),\n",
       "  ('LoginResponse', 1),\n",
       "  ('LetsGo_Button_Press', 1)]]"
      ]
     },
     "execution_count": 33,
     "metadata": {},
     "output_type": "execute_result"
    }
   ],
   "source": [
    "chk_usr_act()"
   ]
  },
  {
   "cell_type": "code",
   "execution_count": 6,
   "metadata": {
    "scrolled": true
   },
   "outputs": [],
   "source": [
    "u_grpd = df[['Action','UserId','ga_session_id']].groupby(['UserId','ga_session_id'])"
   ]
  },
  {
   "cell_type": "code",
   "execution_count": 7,
   "metadata": {},
   "outputs": [
    {
     "data": {
      "text/plain": [
       "<pandas.core.groupby.generic.DataFrameGroupBy object at 0x1132adc18>"
      ]
     },
     "execution_count": 7,
     "metadata": {},
     "output_type": "execute_result"
    }
   ],
   "source": [
    "u_grpd"
   ]
  },
  {
   "cell_type": "code",
   "execution_count": 8,
   "metadata": {},
   "outputs": [],
   "source": [
    "ugrpd_size = u_grpd.size()"
   ]
  },
  {
   "cell_type": "code",
   "execution_count": 9,
   "metadata": {},
   "outputs": [],
   "source": [
    "list_dfs = []\n",
    "for key, item in u_grpd:\n",
    "   list_dfs.append(pd.DataFrame(u_grpd.get_group(key)))\n",
    "    "
   ]
  },
  {
   "cell_type": "code",
   "execution_count": 10,
   "metadata": {},
   "outputs": [],
   "source": [
    "actn = []\n",
    "actn_val = []\n",
    "for df in list_dfs:\n",
    "    actn.append((df['Action'].value_counts()))\n",
    "    actn_val.append((df['Action'].value_counts()).tolist())\n",
    "    "
   ]
  },
  {
   "cell_type": "code",
   "execution_count": 16,
   "metadata": {},
   "outputs": [
    {
     "data": {
      "text/plain": [
       "31"
      ]
     },
     "execution_count": 16,
     "metadata": {},
     "output_type": "execute_result"
    }
   ],
   "source": [
    "len(actn)"
   ]
  },
  {
   "cell_type": "code",
   "execution_count": 15,
   "metadata": {
    "scrolled": true
   },
   "outputs": [
    {
     "ename": "SyntaxError",
     "evalue": "invalid syntax (<ipython-input-15-590f83be924c>, line 1)",
     "output_type": "error",
     "traceback": [
      "\u001b[0;36m  File \u001b[0;32m\"<ipython-input-15-590f83be924c>\"\u001b[0;36m, line \u001b[0;32m1\u001b[0m\n\u001b[0;31m    lambda x: list(zip(x.index, y)) for x in actn ,y in actn_val\u001b[0m\n\u001b[0m                                      ^\u001b[0m\n\u001b[0;31mSyntaxError\u001b[0m\u001b[0;31m:\u001b[0m invalid syntax\n"
     ]
    }
   ],
   "source": [
    "lambda x: list(zip(x.index, y)) for x in actn ,y in actn_val"
   ]
  },
  {
   "cell_type": "code",
   "execution_count": 31,
   "metadata": {},
   "outputs": [],
   "source": [
    "def chk_usr_act():\n",
    "    act_lst = []\n",
    "    for i in range(len(actn)):\n",
    "        \n",
    "        act = list(zip(actn[i].index, actn_val[i]))\n",
    "        act_lst.append(act)\n",
    "    print(\"This is the users_activity session wise\")\n",
    "    return(act_lst)"
   ]
  },
  {
   "cell_type": "code",
   "execution_count": 17,
   "metadata": {
    "scrolled": false
   },
   "outputs": [
    {
     "data": {
      "text/plain": [
       "[('Txn_Status_Change', 4),\n",
       " ('TransferBank_Button_Press', 2),\n",
       " ('Pay_Button_Press', 2),\n",
       " ('Txn_Status_Button_Press', 1)]"
      ]
     },
     "execution_count": 17,
     "metadata": {},
     "output_type": "execute_result"
    }
   ],
   "source": [
    "list(zip(actn[1].index, actn_val[1]))"
   ]
  },
  {
   "cell_type": "code",
   "execution_count": 13,
   "metadata": {
    "scrolled": true
   },
   "outputs": [
    {
     "data": {
      "text/plain": [
       "['Txn_Status_Change',\n",
       " 'TransferBank_Button_Press',\n",
       " 'App_Open',\n",
       " 'ScanPay_Button_Press',\n",
       " 'Pay_Button_Press',\n",
       " 'Txn_Status_Button_Press']"
      ]
     },
     "execution_count": 13,
     "metadata": {},
     "output_type": "execute_result"
    }
   ],
   "source": [
    "list(actn[0].index)"
   ]
  },
  {
   "cell_type": "code",
   "execution_count": 11,
   "metadata": {},
   "outputs": [],
   "source": [
    "import itertools \n",
    "a = zip(itertools.repeat(list(actn[0].index)), itertools.repeat(actn_val[0]))"
   ]
  },
  {
   "cell_type": "code",
   "execution_count": null,
   "metadata": {},
   "outputs": [],
   "source": [
    "( zip(*a))"
   ]
  },
  {
   "cell_type": "code",
   "execution_count": null,
   "metadata": {},
   "outputs": [],
   "source": [
    "print(*a)"
   ]
  },
  {
   "cell_type": "code",
   "execution_count": 74,
   "metadata": {},
   "outputs": [],
   "source": [
    "a = (lambda x: x['Action'].value_counts() for x in list_dfs)"
   ]
  },
  {
   "cell_type": "code",
   "execution_count": 80,
   "metadata": {},
   "outputs": [],
   "source": [
    "z = [x for x in a]"
   ]
  },
  {
   "cell_type": "code",
   "execution_count": 85,
   "metadata": {},
   "outputs": [],
   "source": [
    "from collections import Counter\n",
    "a = (lambda x: x for x in list_dfs)"
   ]
  },
  {
   "cell_type": "code",
   "execution_count": 89,
   "metadata": {},
   "outputs": [],
   "source": [
    "s = [x for x in a]\n"
   ]
  },
  {
   "cell_type": "code",
   "execution_count": 90,
   "metadata": {},
   "outputs": [
    {
     "data": {
      "text/plain": [
       "[]"
      ]
     },
     "execution_count": 90,
     "metadata": {},
     "output_type": "execute_result"
    }
   ],
   "source": [
    "s"
   ]
  },
  {
   "cell_type": "code",
   "execution_count": 73,
   "metadata": {
    "scrolled": true
   },
   "outputs": [
    {
     "data": {
      "text/plain": [
       "TransferBank_Button_Press    4\n",
       "Txn_Status_Change            4\n",
       "Pay_Button_Press             2\n",
       "ScanPay_Button_Press         2\n",
       "App_Open                     2\n",
       "Txn_Status_Button_Press      1\n",
       "Name: Action, dtype: int64"
      ]
     },
     "execution_count": 73,
     "metadata": {},
     "output_type": "execute_result"
    }
   ],
   "source": [
    "list_dfs[0]['Action'].value_counts()"
   ]
  },
  {
   "cell_type": "code",
   "execution_count": 48,
   "metadata": {
    "scrolled": true
   },
   "outputs": [
    {
     "data": {
      "text/plain": [
       "UserId\n",
       "5db031c133a2a1c595c1851b    40\n",
       "5db034f033a2a1c595c18525     7\n",
       "5db0376233a2a1c595c1852a    31\n",
       "5db03bee33a2a1c595c18538     8\n",
       "5db03bef33a2a1c595c1853a     7\n",
       "5db03bef33a2a1c595c1853b    18\n",
       "5db03bef33a2a1c595c1853d     8\n",
       "5db03bef33a2a1c595c1853f    15\n",
       "5db03bf033a2a1c595c18543     3\n",
       "5db03cd433a2a1c595c1855c    13\n",
       "5db03cd433a2a1c595c1855d     2\n",
       "5dc566a650026bf21d01dad5     9\n",
       "5dc7872b50026bf21d01daed     8\n",
       "5dc94b6750026bf21d01db10     7\n",
       "5dca44ec6f06dfc12b1e5b73     1\n",
       "Unknown                     10\n",
       "dtype: int64"
      ]
     },
     "execution_count": 48,
     "metadata": {},
     "output_type": "execute_result"
    }
   ],
   "source": [
    "ugrpd_size"
   ]
  },
  {
   "cell_type": "code",
   "execution_count": 1,
   "metadata": {},
   "outputs": [],
   "source": [
    "import pandas as pd"
   ]
  },
  {
   "cell_type": "code",
   "execution_count": 2,
   "metadata": {},
   "outputs": [],
   "source": [
    "df = pd.read_csv(\"analytics_20191128.csv\")"
   ]
  },
  {
   "cell_type": "code",
   "execution_count": 3,
   "metadata": {
    "scrolled": true
   },
   "outputs": [],
   "source": [
    "uniq_actn = list(df['Action'].unique())"
   ]
  },
  {
   "cell_type": "code",
   "execution_count": 4,
   "metadata": {},
   "outputs": [],
   "source": [
    "df['lat'] = (df['Geo_Coordinates'].str.split(pat = \",\",expand=True))[0]\n",
    "df['long'] = (df['Geo_Coordinates'].str.split(pat = \",\",expand=True))[1]"
   ]
  },
  {
   "cell_type": "code",
   "execution_count": 5,
   "metadata": {},
   "outputs": [],
   "source": [
    "df.drop(columns=['Geo_Coordinates'],inplace = True)"
   ]
  },
  {
   "cell_type": "code",
   "execution_count": 9,
   "metadata": {},
   "outputs": [],
   "source": [
    "plt_scan_pay = df[df['Action'].isin(['ScanPay_Button_Press','Pay_Button_Press'])]\n",
    "plt_bt = df[df.isin(['ScanPay_Button_Press','Pay_Button_Press'])]\n"
   ]
  },
  {
   "cell_type": "code",
   "execution_count": 10,
   "metadata": {
    "scrolled": true
   },
   "outputs": [
    {
     "name": "stderr",
     "output_type": "stream",
     "text": [
      "/Users/onion8/miniconda3/envs/bigquery/lib/python3.7/site-packages/pandas/core/indexing.py:376: SettingWithCopyWarning:\n",
      "\n",
      "\n",
      "A value is trying to be set on a copy of a slice from a DataFrame.\n",
      "Try using .loc[row_indexer,col_indexer] = value instead\n",
      "\n",
      "See the caveats in the documentation: http://pandas.pydata.org/pandas-docs/stable/user_guide/indexing.html#returning-a-view-versus-a-copy\n",
      "\n",
      "/Users/onion8/miniconda3/envs/bigquery/lib/python3.7/site-packages/pandas/core/indexing.py:494: SettingWithCopyWarning:\n",
      "\n",
      "\n",
      "A value is trying to be set on a copy of a slice from a DataFrame.\n",
      "Try using .loc[row_indexer,col_indexer] = value instead\n",
      "\n",
      "See the caveats in the documentation: http://pandas.pydata.org/pandas-docs/stable/user_guide/indexing.html#returning-a-view-versus-a-copy\n",
      "\n"
     ]
    }
   ],
   "source": [
    "plt_scan_pay.loc[plt_scan_pay['Action'] == 'ScanPay_Button_Press', 'clr'] =\"#ff0000\""
   ]
  },
  {
   "cell_type": "code",
   "execution_count": 11,
   "metadata": {},
   "outputs": [],
   "source": [
    "plt_scan_pay.loc[plt_scan_pay['Action'] == 'Pay_Button_Press', 'clr'] =\"#0000ff\""
   ]
  },
  {
   "cell_type": "code",
   "execution_count": 22,
   "metadata": {},
   "outputs": [],
   "source": [
    "sessn_actnwise = df.groupby(['ga_session_id','Action'])"
   ]
  },
  {
   "cell_type": "code",
   "execution_count": 23,
   "metadata": {},
   "outputs": [],
   "source": [
    "grpd_size = sessn_actnwise.size()"
   ]
  },
  {
   "cell_type": "code",
   "execution_count": 18,
   "metadata": {},
   "outputs": [],
   "source": [
    "def actn_session():\n",
    "    print(\"max no of actions in one session {0}\".format((df['ga_session_id'].value_counts()).max()))\n",
    "    print(\"avg no of actions in one session {0}\".format((df['ga_session_id'].value_counts()).mean()))\n",
    "    print(\"min no of actions in one session {0}\".format((df['ga_session_id'].value_counts()).min()))\n",
    "    "
   ]
  },
  {
   "cell_type": "code",
   "execution_count": 69,
   "metadata": {
    "scrolled": true
   },
   "outputs": [
    {
     "name": "stdout",
     "output_type": "stream",
     "text": [
      "max no of actions in one session 21\n",
      "avg no of actions in one session 6.310344827586207\n",
      "min no of actions in one session 1\n"
     ]
    }
   ],
   "source": [
    "actn_session()"
   ]
  },
  {
   "cell_type": "code",
   "execution_count": 39,
   "metadata": {},
   "outputs": [],
   "source": [
    "def actn_per(actns):\n",
    "    pers = []\n",
    "    for actn in actns:\n",
    "        per = (grpd_size[:,actn].sum()/grpd_size.sum())*100\n",
    "        pers.append(per)\n",
    "#         print(\"Action percentage for {0} is : '{1}'\".format(actn,per))\n",
    "    return(pers)\n"
   ]
  },
  {
   "cell_type": "code",
   "execution_count": 67,
   "metadata": {
    "scrolled": false
   },
   "outputs": [
    {
     "name": "stdout",
     "output_type": "stream",
     "text": [
      "Action percentage for App_Open is : '24.59016393442623'\n",
      "Action percentage for ScanPay_Button_Press is : '9.289617486338798'\n",
      "Action percentage for Pay_Remarks_Fill is : '3.825136612021858'\n",
      "Action percentage for Pay_Button_Press is : '9.836065573770492'\n",
      "Action percentage for Txn_Status_Change is : '27.322404371584703'\n",
      "Action percentage for Txn_Status_Button_Press is : '8.743169398907105'\n",
      "Action percentage for LetsGo_Button_Press is : '1.092896174863388'\n",
      "Action percentage for Login is : '2.185792349726776'\n",
      "Action percentage for LoginResponse is : '2.185792349726776'\n",
      "Action percentage for Unlock_Button_Press is : '4.371584699453552'\n",
      "Action percentage for TransferBank_Button_Press is : '6.557377049180328'\n"
     ]
    }
   ],
   "source": [
    "actn_per(uniq_actn)"
   ]
  },
  {
   "cell_type": "code",
   "execution_count": 16,
   "metadata": {
    "scrolled": false
   },
   "outputs": [
    {
     "data": {
      "text/plain": [
       "Txn_Status_Change            50\n",
       "App_Open                     49\n",
       "Pay_Button_Press             18\n",
       "ScanPay_Button_Press         17\n",
       "Txn_Status_Button_Press      16\n",
       "TransferBank_Button_Press    12\n",
       "Unlock_Button_Press           8\n",
       "Pay_Remarks_Fill              7\n",
       "Login                         4\n",
       "LoginResponse                 4\n",
       "LetsGo_Button_Press           2\n",
       "Name: Action, dtype: int64"
      ]
     },
     "execution_count": 16,
     "metadata": {},
     "output_type": "execute_result"
    }
   ],
   "source": [
    "df['Action'].value_counts()"
   ]
  },
  {
   "cell_type": "code",
   "execution_count": 15,
   "metadata": {
    "scrolled": true
   },
   "outputs": [
    {
     "data": {
      "application/vnd.plotly.v1+json": {
       "config": {
        "plotlyServerURL": "https://plot.ly"
       },
       "data": [
        {
         "lat": [
          "12.912157",
          "12.904184",
          "12.904184",
          "12.904184",
          "12.904184",
          "12.904184",
          "12.904184",
          "12.904184",
          "12.935067",
          "12.935067",
          "12.933046",
          "12.933046",
          "12.933046",
          "12.933046",
          "12.933046",
          "12.933046",
          "12.933046",
          "12.935067",
          "12.935067",
          "12.904092",
          "12.904092",
          "12.904092",
          "12.904092",
          "12.904092",
          "12.904092",
          "12.89216",
          "12.995841",
          "12.995841",
          "12.995841",
          "12.995841",
          "12.995841",
          "12.995841",
          "12.995841",
          "12.906392",
          "12.904115",
          "12.904115",
          "12.904115",
          "12.904115",
          "12.904115",
          "12.904115",
          "12.904115",
          "12.904112",
          "12.904112",
          "12.904112",
          "12.904304",
          "12.904157",
          "12.904157",
          "12.904157",
          "12.904157",
          "12.904157",
          "12.904157",
          "12.904119",
          "12.904119",
          "12.905",
          "12.905",
          "12.905",
          "12.905",
          "12.905",
          "12.905",
          "12.904102",
          "12.904098",
          "12.904098",
          "12.904098",
          "12.904098",
          "12.904098",
          "12.904098",
          "12.904098",
          "12.904098",
          "12.90412",
          "12.923093",
          "12.923093",
          "12.904103",
          "12.994455",
          "12.994457",
          "12.994457",
          "12.994434",
          "12.994434",
          "12.994434",
          "12.994434",
          "12.994434",
          "12.994434",
          "12.994434",
          "12.994434",
          "12.994434",
          "12.904171",
          "12.904304",
          "12.904304",
          "12.904304",
          "12.904304",
          "12.904304",
          "12.904304",
          "12.904108",
          "12.911546",
          "12.911546",
          "12.911546",
          "12.911546",
          "12.911546",
          "12.911546",
          "12.911546",
          "12.911546",
          "12.911546",
          "12.911546",
          "12.911546",
          "12.911546",
          "12.911546",
          "12.911546",
          "12.911546",
          "12.904103",
          "12.904103",
          "12.904103",
          "12.904103",
          "12.904103",
          "12.904103",
          "12.904103",
          "12.904103",
          "12.904103",
          "12.904103",
          "12.904111",
          "12.904111",
          "12.904111",
          "12.904229",
          "12.904229",
          "12.904229",
          "12.904229",
          "12.904229",
          "12.904229",
          "12.9038725",
          "12.911546",
          "12.911546",
          "12.911546",
          "12.911546",
          "12.904104",
          "28.589586",
          "28.60065",
          "12.904554",
          "12.904111",
          "12.904102",
          "12.904109",
          "12.904112",
          "12.904112",
          "12.904112",
          "12.904112",
          "12.904112",
          "12.904112",
          "12.904112",
          "12.904111",
          "12.904111",
          "12.904111",
          "12.904111",
          "12.904111",
          "12.904111",
          "12.904111",
          "12.904111",
          "12.904111",
          "12.904111",
          "12.904111",
          "12.904111",
          "12.904111",
          "12.904111",
          "12.904111",
          "12.904111",
          "12.904111",
          "12.904111",
          "12.904111",
          "12.904111",
          "12.904103",
          "12.904112",
          "12.904112",
          "12.904112",
          "12.904112",
          "12.904112",
          "12.904112",
          "12.907483",
          "12.904005",
          "12.904005",
          "12.904005",
          "12.904005",
          "12.904005",
          "12.904005",
          "12.903851",
          "12.969888",
          "12.969888",
          "12.969888",
          "12.969888",
          "12.969888",
          "12.969888",
          "12.971221"
         ],
         "lon": [
          "77.648735",
          "77.64834",
          "77.64834",
          "77.64834",
          "77.64834",
          "77.64834",
          "77.64834",
          "77.64834",
          "77.665245",
          "77.665245",
          "77.69827",
          "77.69827",
          "77.69827",
          "77.69827",
          "77.69827",
          "77.69827",
          "77.69827",
          "77.665245",
          "77.665245",
          "77.648476",
          "77.648476",
          "77.648476",
          "77.648476",
          "77.648476",
          "77.648476",
          "80.19783",
          "80.193375",
          "80.193375",
          "80.193375",
          "80.193375",
          "80.193375",
          "80.193375",
          "80.193375",
          "77.64892",
          "77.64837",
          "77.64837",
          "77.64837",
          "77.64837",
          "77.64837",
          "77.64837",
          "77.64837",
          "77.648346",
          "77.648346",
          "77.648346",
          "77.64914",
          "77.64839",
          "77.64839",
          "77.64839",
          "77.64839",
          "77.64839",
          "77.64839",
          "77.64834",
          "77.64834",
          "77.64895",
          "77.64895",
          "77.64895",
          "77.64895",
          "77.64895",
          "77.64895",
          "77.64836",
          "77.6483",
          "77.6483",
          "77.6483",
          "77.6483",
          "77.6483",
          "77.6483",
          "77.6483",
          "77.6483",
          "77.64835",
          "77.6514",
          "77.6514",
          "77.64835",
          "77.533806",
          "77.5338",
          "77.5338",
          "77.53378",
          "77.53378",
          "77.53378",
          "77.53378",
          "77.53378",
          "77.53378",
          "77.53378",
          "77.53378",
          "77.53378",
          "77.64823",
          "77.64914",
          "77.64914",
          "77.64914",
          "77.64914",
          "77.64914",
          "77.64914",
          "77.64838",
          "77.62402",
          "77.62402",
          "77.62402",
          "77.62402",
          "77.62402",
          "77.62402",
          "77.62402",
          "77.62402",
          "77.62402",
          "77.62402",
          "77.62402",
          "77.62402",
          "77.62402",
          "77.62402",
          "77.62402",
          "77.64835",
          "77.64835",
          "77.64835",
          "77.64835",
          "77.64835",
          "77.64835",
          "77.64835",
          "77.64835",
          "77.64835",
          "77.64835",
          "77.648346",
          "77.648346",
          "77.648346",
          "77.64855",
          "77.64855",
          "77.64855",
          "77.64855",
          "77.64855",
          "77.64855",
          "77.6489",
          "77.62402",
          "77.62402",
          "77.62402",
          "77.62402",
          "77.64835",
          "77.25092",
          "77.21625",
          "77.64699",
          "77.648346",
          "77.64833",
          "77.64834",
          "77.64832",
          "77.64832",
          "77.64832",
          "77.64832",
          "77.64832",
          "77.64832",
          "77.64832",
          "77.648346",
          "77.648346",
          "77.648346",
          "77.648346",
          "77.648346",
          "77.648346",
          "77.648346",
          "77.648346",
          "77.648346",
          "77.648346",
          "77.648346",
          "77.648346",
          "77.648346",
          "77.648346",
          "77.648346",
          "77.648346",
          "77.648346",
          "77.648346",
          "77.648346",
          "77.648346",
          "77.64835",
          "77.64836",
          "77.64836",
          "77.64836",
          "77.64836",
          "77.64836",
          "77.64836",
          "77.649185",
          "77.64879",
          "77.64879",
          "77.64879",
          "77.64879",
          "77.64879",
          "77.64879",
          "77.64868",
          "77.597435",
          "77.597435",
          "77.597435",
          "77.597435",
          "77.597435",
          "77.597435",
          "77.59816"
         ],
         "mode": "markers",
         "text": [
          "Unknown,Unknown ,App_Open",
          "Unknown,Unknown ,ScanPay_Button_Press",
          "HSR Layout,Bengaluru ,Pay_Remarks_Fill",
          "HSR Layout,Bengaluru ,Pay_Button_Press",
          "HSR Layout,Bengaluru ,Txn_Status_Change",
          "HSR Layout,Bengaluru ,Txn_Status_Change",
          "HSR Layout,Bengaluru ,Txn_Status_Change",
          "HSR Layout,Bengaluru ,Txn_Status_Button_Press",
          "Bellandur,Bengaluru ,App_Open",
          "Bellandur,Bengaluru ,LetsGo_Button_Press",
          "null,Bengaluru ,Login",
          "null,Bengaluru ,LoginResponse",
          "null,Bengaluru ,Login",
          "null,Bengaluru ,LoginResponse",
          "null,Bengaluru ,Unlock_Button_Press",
          "null,Bengaluru ,Unlock_Button_Press",
          "null,Bengaluru ,Unlock_Button_Press",
          "Bellandur,Bengaluru ,App_Open",
          "Bellandur,Bengaluru ,LetsGo_Button_Press",
          "HSR Layout,Bengaluru ,Login",
          "HSR Layout,Bengaluru ,LoginResponse",
          "HSR Layout,Bengaluru ,Unlock_Button_Press",
          "HSR Layout,Bengaluru ,Unlock_Button_Press",
          "HSR Layout,Bengaluru ,Unlock_Button_Press",
          "HSR Layout,Bengaluru ,App_Open",
          "Perumbakkam,Chennai ,App_Open",
          "Alandur,Chennai ,ScanPay_Button_Press",
          "Alandur,Chennai ,Pay_Remarks_Fill",
          "Alandur,Chennai ,Pay_Button_Press",
          "Alandur,Chennai ,Txn_Status_Change",
          "Alandur,Chennai ,Txn_Status_Change",
          "Alandur,Chennai ,Txn_Status_Change",
          "Alandur,Chennai ,Txn_Status_Button_Press",
          "HSR Layout,Bengaluru ,App_Open",
          "HSR Layout,Bengaluru ,ScanPay_Button_Press",
          "HSR Layout,Bengaluru ,Pay_Button_Press",
          "HSR Layout,Bengaluru ,Txn_Status_Change",
          "HSR Layout,Bengaluru ,Txn_Status_Change",
          "HSR Layout,Bengaluru ,Txn_Status_Change",
          "HSR Layout,Bengaluru ,Txn_Status_Button_Press",
          "HSR Layout,Bengaluru ,App_Open",
          "HSR Layout,Bengaluru ,ScanPay_Button_Press",
          "HSR Layout,Bengaluru ,TransferBank_Button_Press",
          "HSR Layout,Bengaluru ,App_Open",
          "HSR Layout,Bengaluru ,App_Open",
          "HSR Layout,Bengaluru ,ScanPay_Button_Press",
          "HSR Layout,Bengaluru ,Pay_Button_Press",
          "HSR Layout,Bengaluru ,Txn_Status_Change",
          "HSR Layout,Bengaluru ,Txn_Status_Change",
          "HSR Layout,Bengaluru ,Txn_Status_Change",
          "HSR Layout,Bengaluru ,Txn_Status_Button_Press",
          "HSR Layout,Bengaluru ,App_Open",
          "HSR Layout,Bengaluru ,ScanPay_Button_Press",
          "HSR Layout,Bengaluru ,Pay_Remarks_Fill",
          "HSR Layout,Bengaluru ,Pay_Button_Press",
          "HSR Layout,Bengaluru ,Txn_Status_Change",
          "HSR Layout,Bengaluru ,Txn_Status_Change",
          "HSR Layout,Bengaluru ,Txn_Status_Change",
          "HSR Layout,Bengaluru ,Txn_Status_Button_Press",
          "HSR Layout,Bengaluru ,App_Open",
          "HSR Layout,Bengaluru ,App_Open",
          "HSR Layout,Bengaluru ,ScanPay_Button_Press",
          "HSR Layout,Bengaluru ,Pay_Button_Press",
          "HSR Layout,Bengaluru ,Txn_Status_Change",
          "HSR Layout,Bengaluru ,Txn_Status_Change",
          "HSR Layout,Bengaluru ,Txn_Status_Change",
          "HSR Layout,Bengaluru ,Txn_Status_Button_Press",
          "HSR Layout,Bengaluru ,App_Open",
          "HSR Layout,Bengaluru ,App_Open",
          "HSR Layout,Bengaluru ,Unlock_Button_Press",
          "HSR Layout,Bengaluru ,Unlock_Button_Press",
          "HSR Layout,Bengaluru ,App_Open",
          "Basaweshwara Nagar,Bengaluru ,App_Open",
          "Basaweshwara Nagar,Bengaluru ,TransferBank_Button_Press",
          "Basaweshwara Nagar,Bengaluru ,Pay_Button_Press",
          "Basaweshwara Nagar,Bengaluru ,Txn_Status_Change",
          "Basaweshwara Nagar,Bengaluru ,Txn_Status_Change",
          "Basaweshwara Nagar,Bengaluru ,Txn_Status_Button_Press",
          "Basaweshwara Nagar,Bengaluru ,ScanPay_Button_Press",
          "Basaweshwara Nagar,Bengaluru ,Pay_Remarks_Fill",
          "Basaweshwara Nagar,Bengaluru ,Pay_Button_Press",
          "Basaweshwara Nagar,Bengaluru ,Txn_Status_Change",
          "Basaweshwara Nagar,Bengaluru ,Txn_Status_Change",
          "Basaweshwara Nagar,Bengaluru ,Txn_Status_Button_Press",
          "HSR Layout,Bengaluru ,App_Open",
          "HSR Layout,Bengaluru ,ScanPay_Button_Press",
          "HSR Layout,Bengaluru ,Pay_Remarks_Fill",
          "HSR Layout,Bengaluru ,Pay_Button_Press",
          "HSR Layout,Bengaluru ,Txn_Status_Change",
          "HSR Layout,Bengaluru ,Txn_Status_Change",
          "HSR Layout,Bengaluru ,Txn_Status_Change",
          "HSR Layout,Bengaluru ,App_Open",
          "Bommanahalli,Bengaluru ,TransferBank_Button_Press",
          "Bommanahalli,Bengaluru ,Pay_Button_Press",
          "Bommanahalli,Bengaluru ,Txn_Status_Change",
          "Bommanahalli,Bengaluru ,Txn_Status_Change",
          "Bommanahalli,Bengaluru ,TransferBank_Button_Press",
          "Bommanahalli,Bengaluru ,Pay_Button_Press",
          "Bommanahalli,Bengaluru ,Txn_Status_Change",
          "Bommanahalli,Bengaluru ,Txn_Status_Change",
          "Bommanahalli,Bengaluru ,Txn_Status_Button_Press",
          "Bommanahalli,Bengaluru ,TransferBank_Button_Press",
          "Bommanahalli,Bengaluru ,ScanPay_Button_Press",
          "Bommanahalli,Bengaluru ,App_Open",
          "Bommanahalli,Bengaluru ,ScanPay_Button_Press",
          "Bommanahalli,Bengaluru ,TransferBank_Button_Press",
          "Bommanahalli,Bengaluru ,App_Open",
          "HSR Layout,Bengaluru ,TransferBank_Button_Press",
          "HSR Layout,Bengaluru ,Pay_Button_Press",
          "HSR Layout,Bengaluru ,Txn_Status_Change",
          "HSR Layout,Bengaluru ,Txn_Status_Change",
          "HSR Layout,Bengaluru ,Txn_Status_Button_Press",
          "HSR Layout,Bengaluru ,TransferBank_Button_Press",
          "HSR Layout,Bengaluru ,Pay_Button_Press",
          "HSR Layout,Bengaluru ,Txn_Status_Change",
          "HSR Layout,Bengaluru ,Txn_Status_Change",
          "HSR Layout,Bengaluru ,Txn_Status_Change",
          "HSR Layout,Bengaluru ,Txn_Status_Change",
          "HSR Layout,Bengaluru ,Txn_Status_Button_Press",
          "HSR Layout,Bengaluru ,App_Open",
          "Unknown,Unknown ,ScanPay_Button_Press",
          "HSR Layout,Bengaluru ,Pay_Button_Press",
          "HSR Layout,Bengaluru ,Txn_Status_Change",
          "HSR Layout,Bengaluru ,Txn_Status_Change",
          "HSR Layout,Bengaluru ,Txn_Status_Change",
          "HSR Layout,Bengaluru ,Txn_Status_Button_Press",
          "HSR Layout,Bengaluru ,App_Open",
          "Bommanahalli,Bengaluru ,App_Open",
          "Bommanahalli,Bengaluru ,Login",
          "Bommanahalli,Bengaluru ,LoginResponse",
          "Bommanahalli,Bengaluru ,TransferBank_Button_Press",
          "HSR Layout,Bengaluru ,App_Open",
          "Nizamuddin East,New Delhi ,App_Open",
          "null,New Delhi ,ScanPay_Button_Press",
          "HSR Layout,Bengaluru ,App_Open",
          "HSR Layout,Bengaluru ,App_Open",
          "HSR Layout,Bengaluru ,App_Open",
          "HSR Layout,Bengaluru ,App_Open",
          "HSR Layout,Bengaluru ,TransferBank_Button_Press",
          "HSR Layout,Bengaluru ,TransferBank_Button_Press",
          "HSR Layout,Bengaluru ,App_Open",
          "HSR Layout,Bengaluru ,App_Open",
          "HSR Layout,Bengaluru ,App_Open",
          "HSR Layout,Bengaluru ,App_Open",
          "HSR Layout,Bengaluru ,App_Open",
          "HSR Layout,Bengaluru ,App_Open",
          "HSR Layout,Bengaluru ,App_Open",
          "HSR Layout,Bengaluru ,App_Open",
          "HSR Layout,Bengaluru ,App_Open",
          "HSR Layout,Bengaluru ,App_Open",
          "HSR Layout,Bengaluru ,App_Open",
          "HSR Layout,Bengaluru ,App_Open",
          "HSR Layout,Bengaluru ,App_Open",
          "HSR Layout,Bengaluru ,App_Open",
          "HSR Layout,Bengaluru ,App_Open",
          "HSR Layout,Bengaluru ,App_Open",
          "HSR Layout,Bengaluru ,TransferBank_Button_Press",
          "HSR Layout,Bengaluru ,ScanPay_Button_Press",
          "HSR Layout,Bengaluru ,Pay_Remarks_Fill",
          "HSR Layout,Bengaluru ,Pay_Button_Press",
          "HSR Layout,Bengaluru ,Txn_Status_Change",
          "HSR Layout,Bengaluru ,Txn_Status_Change",
          "HSR Layout,Bengaluru ,Txn_Status_Change",
          "HSR Layout,Bengaluru ,Txn_Status_Button_Press",
          "HSR Layout,Bengaluru ,App_Open",
          "HSR Layout,Bengaluru ,App_Open",
          "HSR Layout,Bengaluru ,ScanPay_Button_Press",
          "HSR Layout,Bengaluru ,Pay_Button_Press",
          "HSR Layout,Bengaluru ,Txn_Status_Change",
          "HSR Layout,Bengaluru ,Txn_Status_Change",
          "HSR Layout,Bengaluru ,Txn_Status_Change",
          "HSR Layout,Bengaluru ,Txn_Status_Button_Press",
          "HSR Layout,Bengaluru ,App_Open",
          "HSR Layout,Bengaluru ,ScanPay_Button_Press",
          "HSR Layout,Bengaluru ,Pay_Button_Press",
          "HSR Layout,Bengaluru ,Txn_Status_Change",
          "HSR Layout,Bengaluru ,Txn_Status_Change",
          "HSR Layout,Bengaluru ,Txn_Status_Change",
          "HSR Layout,Bengaluru ,Txn_Status_Button_Press",
          "HSR Layout,Bengaluru ,ScanPay_Button_Press",
          "Ashok Nagar,Bengaluru ,Pay_Remarks_Fill",
          "Ashok Nagar,Bengaluru ,Pay_Button_Press",
          "Ashok Nagar,Bengaluru ,Txn_Status_Change",
          "Ashok Nagar,Bengaluru ,Txn_Status_Change",
          "Ashok Nagar,Bengaluru ,Txn_Status_Change",
          "Ashok Nagar,Bengaluru ,Txn_Status_Button_Press",
          "null,Bengaluru ,App_Open"
         ],
         "type": "scattergeo"
        }
       ],
       "layout": {
        "geo": {
         "countrywidth": 0.5,
         "landcolor": "rgb(250, 250, 250)",
         "scope": "asia",
         "showland": true,
         "subunitwidth": 0.5
        },
        "template": {
         "data": {
          "bar": [
           {
            "error_x": {
             "color": "#2a3f5f"
            },
            "error_y": {
             "color": "#2a3f5f"
            },
            "marker": {
             "line": {
              "color": "#E5ECF6",
              "width": 0.5
             }
            },
            "type": "bar"
           }
          ],
          "barpolar": [
           {
            "marker": {
             "line": {
              "color": "#E5ECF6",
              "width": 0.5
             }
            },
            "type": "barpolar"
           }
          ],
          "carpet": [
           {
            "aaxis": {
             "endlinecolor": "#2a3f5f",
             "gridcolor": "white",
             "linecolor": "white",
             "minorgridcolor": "white",
             "startlinecolor": "#2a3f5f"
            },
            "baxis": {
             "endlinecolor": "#2a3f5f",
             "gridcolor": "white",
             "linecolor": "white",
             "minorgridcolor": "white",
             "startlinecolor": "#2a3f5f"
            },
            "type": "carpet"
           }
          ],
          "choropleth": [
           {
            "colorbar": {
             "outlinewidth": 0,
             "ticks": ""
            },
            "type": "choropleth"
           }
          ],
          "contour": [
           {
            "colorbar": {
             "outlinewidth": 0,
             "ticks": ""
            },
            "colorscale": [
             [
              0,
              "#0d0887"
             ],
             [
              0.1111111111111111,
              "#46039f"
             ],
             [
              0.2222222222222222,
              "#7201a8"
             ],
             [
              0.3333333333333333,
              "#9c179e"
             ],
             [
              0.4444444444444444,
              "#bd3786"
             ],
             [
              0.5555555555555556,
              "#d8576b"
             ],
             [
              0.6666666666666666,
              "#ed7953"
             ],
             [
              0.7777777777777778,
              "#fb9f3a"
             ],
             [
              0.8888888888888888,
              "#fdca26"
             ],
             [
              1,
              "#f0f921"
             ]
            ],
            "type": "contour"
           }
          ],
          "contourcarpet": [
           {
            "colorbar": {
             "outlinewidth": 0,
             "ticks": ""
            },
            "type": "contourcarpet"
           }
          ],
          "heatmap": [
           {
            "colorbar": {
             "outlinewidth": 0,
             "ticks": ""
            },
            "colorscale": [
             [
              0,
              "#0d0887"
             ],
             [
              0.1111111111111111,
              "#46039f"
             ],
             [
              0.2222222222222222,
              "#7201a8"
             ],
             [
              0.3333333333333333,
              "#9c179e"
             ],
             [
              0.4444444444444444,
              "#bd3786"
             ],
             [
              0.5555555555555556,
              "#d8576b"
             ],
             [
              0.6666666666666666,
              "#ed7953"
             ],
             [
              0.7777777777777778,
              "#fb9f3a"
             ],
             [
              0.8888888888888888,
              "#fdca26"
             ],
             [
              1,
              "#f0f921"
             ]
            ],
            "type": "heatmap"
           }
          ],
          "heatmapgl": [
           {
            "colorbar": {
             "outlinewidth": 0,
             "ticks": ""
            },
            "colorscale": [
             [
              0,
              "#0d0887"
             ],
             [
              0.1111111111111111,
              "#46039f"
             ],
             [
              0.2222222222222222,
              "#7201a8"
             ],
             [
              0.3333333333333333,
              "#9c179e"
             ],
             [
              0.4444444444444444,
              "#bd3786"
             ],
             [
              0.5555555555555556,
              "#d8576b"
             ],
             [
              0.6666666666666666,
              "#ed7953"
             ],
             [
              0.7777777777777778,
              "#fb9f3a"
             ],
             [
              0.8888888888888888,
              "#fdca26"
             ],
             [
              1,
              "#f0f921"
             ]
            ],
            "type": "heatmapgl"
           }
          ],
          "histogram": [
           {
            "marker": {
             "colorbar": {
              "outlinewidth": 0,
              "ticks": ""
             }
            },
            "type": "histogram"
           }
          ],
          "histogram2d": [
           {
            "colorbar": {
             "outlinewidth": 0,
             "ticks": ""
            },
            "colorscale": [
             [
              0,
              "#0d0887"
             ],
             [
              0.1111111111111111,
              "#46039f"
             ],
             [
              0.2222222222222222,
              "#7201a8"
             ],
             [
              0.3333333333333333,
              "#9c179e"
             ],
             [
              0.4444444444444444,
              "#bd3786"
             ],
             [
              0.5555555555555556,
              "#d8576b"
             ],
             [
              0.6666666666666666,
              "#ed7953"
             ],
             [
              0.7777777777777778,
              "#fb9f3a"
             ],
             [
              0.8888888888888888,
              "#fdca26"
             ],
             [
              1,
              "#f0f921"
             ]
            ],
            "type": "histogram2d"
           }
          ],
          "histogram2dcontour": [
           {
            "colorbar": {
             "outlinewidth": 0,
             "ticks": ""
            },
            "colorscale": [
             [
              0,
              "#0d0887"
             ],
             [
              0.1111111111111111,
              "#46039f"
             ],
             [
              0.2222222222222222,
              "#7201a8"
             ],
             [
              0.3333333333333333,
              "#9c179e"
             ],
             [
              0.4444444444444444,
              "#bd3786"
             ],
             [
              0.5555555555555556,
              "#d8576b"
             ],
             [
              0.6666666666666666,
              "#ed7953"
             ],
             [
              0.7777777777777778,
              "#fb9f3a"
             ],
             [
              0.8888888888888888,
              "#fdca26"
             ],
             [
              1,
              "#f0f921"
             ]
            ],
            "type": "histogram2dcontour"
           }
          ],
          "mesh3d": [
           {
            "colorbar": {
             "outlinewidth": 0,
             "ticks": ""
            },
            "type": "mesh3d"
           }
          ],
          "parcoords": [
           {
            "line": {
             "colorbar": {
              "outlinewidth": 0,
              "ticks": ""
             }
            },
            "type": "parcoords"
           }
          ],
          "pie": [
           {
            "automargin": true,
            "type": "pie"
           }
          ],
          "scatter": [
           {
            "marker": {
             "colorbar": {
              "outlinewidth": 0,
              "ticks": ""
             }
            },
            "type": "scatter"
           }
          ],
          "scatter3d": [
           {
            "line": {
             "colorbar": {
              "outlinewidth": 0,
              "ticks": ""
             }
            },
            "marker": {
             "colorbar": {
              "outlinewidth": 0,
              "ticks": ""
             }
            },
            "type": "scatter3d"
           }
          ],
          "scattercarpet": [
           {
            "marker": {
             "colorbar": {
              "outlinewidth": 0,
              "ticks": ""
             }
            },
            "type": "scattercarpet"
           }
          ],
          "scattergeo": [
           {
            "marker": {
             "colorbar": {
              "outlinewidth": 0,
              "ticks": ""
             }
            },
            "type": "scattergeo"
           }
          ],
          "scattergl": [
           {
            "marker": {
             "colorbar": {
              "outlinewidth": 0,
              "ticks": ""
             }
            },
            "type": "scattergl"
           }
          ],
          "scattermapbox": [
           {
            "marker": {
             "colorbar": {
              "outlinewidth": 0,
              "ticks": ""
             }
            },
            "type": "scattermapbox"
           }
          ],
          "scatterpolar": [
           {
            "marker": {
             "colorbar": {
              "outlinewidth": 0,
              "ticks": ""
             }
            },
            "type": "scatterpolar"
           }
          ],
          "scatterpolargl": [
           {
            "marker": {
             "colorbar": {
              "outlinewidth": 0,
              "ticks": ""
             }
            },
            "type": "scatterpolargl"
           }
          ],
          "scatterternary": [
           {
            "marker": {
             "colorbar": {
              "outlinewidth": 0,
              "ticks": ""
             }
            },
            "type": "scatterternary"
           }
          ],
          "surface": [
           {
            "colorbar": {
             "outlinewidth": 0,
             "ticks": ""
            },
            "colorscale": [
             [
              0,
              "#0d0887"
             ],
             [
              0.1111111111111111,
              "#46039f"
             ],
             [
              0.2222222222222222,
              "#7201a8"
             ],
             [
              0.3333333333333333,
              "#9c179e"
             ],
             [
              0.4444444444444444,
              "#bd3786"
             ],
             [
              0.5555555555555556,
              "#d8576b"
             ],
             [
              0.6666666666666666,
              "#ed7953"
             ],
             [
              0.7777777777777778,
              "#fb9f3a"
             ],
             [
              0.8888888888888888,
              "#fdca26"
             ],
             [
              1,
              "#f0f921"
             ]
            ],
            "type": "surface"
           }
          ],
          "table": [
           {
            "cells": {
             "fill": {
              "color": "#EBF0F8"
             },
             "line": {
              "color": "white"
             }
            },
            "header": {
             "fill": {
              "color": "#C8D4E3"
             },
             "line": {
              "color": "white"
             }
            },
            "type": "table"
           }
          ]
         },
         "layout": {
          "annotationdefaults": {
           "arrowcolor": "#2a3f5f",
           "arrowhead": 0,
           "arrowwidth": 1
          },
          "coloraxis": {
           "colorbar": {
            "outlinewidth": 0,
            "ticks": ""
           }
          },
          "colorscale": {
           "diverging": [
            [
             0,
             "#8e0152"
            ],
            [
             0.1,
             "#c51b7d"
            ],
            [
             0.2,
             "#de77ae"
            ],
            [
             0.3,
             "#f1b6da"
            ],
            [
             0.4,
             "#fde0ef"
            ],
            [
             0.5,
             "#f7f7f7"
            ],
            [
             0.6,
             "#e6f5d0"
            ],
            [
             0.7,
             "#b8e186"
            ],
            [
             0.8,
             "#7fbc41"
            ],
            [
             0.9,
             "#4d9221"
            ],
            [
             1,
             "#276419"
            ]
           ],
           "sequential": [
            [
             0,
             "#0d0887"
            ],
            [
             0.1111111111111111,
             "#46039f"
            ],
            [
             0.2222222222222222,
             "#7201a8"
            ],
            [
             0.3333333333333333,
             "#9c179e"
            ],
            [
             0.4444444444444444,
             "#bd3786"
            ],
            [
             0.5555555555555556,
             "#d8576b"
            ],
            [
             0.6666666666666666,
             "#ed7953"
            ],
            [
             0.7777777777777778,
             "#fb9f3a"
            ],
            [
             0.8888888888888888,
             "#fdca26"
            ],
            [
             1,
             "#f0f921"
            ]
           ],
           "sequentialminus": [
            [
             0,
             "#0d0887"
            ],
            [
             0.1111111111111111,
             "#46039f"
            ],
            [
             0.2222222222222222,
             "#7201a8"
            ],
            [
             0.3333333333333333,
             "#9c179e"
            ],
            [
             0.4444444444444444,
             "#bd3786"
            ],
            [
             0.5555555555555556,
             "#d8576b"
            ],
            [
             0.6666666666666666,
             "#ed7953"
            ],
            [
             0.7777777777777778,
             "#fb9f3a"
            ],
            [
             0.8888888888888888,
             "#fdca26"
            ],
            [
             1,
             "#f0f921"
            ]
           ]
          },
          "colorway": [
           "#636efa",
           "#EF553B",
           "#00cc96",
           "#ab63fa",
           "#FFA15A",
           "#19d3f3",
           "#FF6692",
           "#B6E880",
           "#FF97FF",
           "#FECB52"
          ],
          "font": {
           "color": "#2a3f5f"
          },
          "geo": {
           "bgcolor": "white",
           "lakecolor": "white",
           "landcolor": "#E5ECF6",
           "showlakes": true,
           "showland": true,
           "subunitcolor": "white"
          },
          "hoverlabel": {
           "align": "left"
          },
          "hovermode": "closest",
          "mapbox": {
           "style": "light"
          },
          "paper_bgcolor": "white",
          "plot_bgcolor": "#E5ECF6",
          "polar": {
           "angularaxis": {
            "gridcolor": "white",
            "linecolor": "white",
            "ticks": ""
           },
           "bgcolor": "#E5ECF6",
           "radialaxis": {
            "gridcolor": "white",
            "linecolor": "white",
            "ticks": ""
           }
          },
          "scene": {
           "xaxis": {
            "backgroundcolor": "#E5ECF6",
            "gridcolor": "white",
            "gridwidth": 2,
            "linecolor": "white",
            "showbackground": true,
            "ticks": "",
            "zerolinecolor": "white"
           },
           "yaxis": {
            "backgroundcolor": "#E5ECF6",
            "gridcolor": "white",
            "gridwidth": 2,
            "linecolor": "white",
            "showbackground": true,
            "ticks": "",
            "zerolinecolor": "white"
           },
           "zaxis": {
            "backgroundcolor": "#E5ECF6",
            "gridcolor": "white",
            "gridwidth": 2,
            "linecolor": "white",
            "showbackground": true,
            "ticks": "",
            "zerolinecolor": "white"
           }
          },
          "shapedefaults": {
           "line": {
            "color": "#2a3f5f"
           }
          },
          "ternary": {
           "aaxis": {
            "gridcolor": "white",
            "linecolor": "white",
            "ticks": ""
           },
           "baxis": {
            "gridcolor": "white",
            "linecolor": "white",
            "ticks": ""
           },
           "bgcolor": "#E5ECF6",
           "caxis": {
            "gridcolor": "white",
            "linecolor": "white",
            "ticks": ""
           }
          },
          "title": {
           "x": 0.05
          },
          "xaxis": {
           "automargin": true,
           "gridcolor": "white",
           "linecolor": "white",
           "ticks": "",
           "title": {
            "standoff": 15
           },
           "zerolinecolor": "white",
           "zerolinewidth": 2
          },
          "yaxis": {
           "automargin": true,
           "gridcolor": "white",
           "linecolor": "white",
           "ticks": "",
           "title": {
            "standoff": 15
           },
           "zerolinecolor": "white",
           "zerolinewidth": 2
          }
         }
        },
        "title": {
         "text": "Action <br>(Hover for location and action)"
        }
       }
      },
      "text/html": [
       "<div>\n",
       "        \n",
       "        \n",
       "            <div id=\"b01d1a70-b027-47f1-9b86-27f7777a9b5a\" class=\"plotly-graph-div\" style=\"height:525px; width:100%;\"></div>\n",
       "            <script type=\"text/javascript\">\n",
       "                require([\"plotly\"], function(Plotly) {\n",
       "                    window.PLOTLYENV=window.PLOTLYENV || {};\n",
       "                    \n",
       "                if (document.getElementById(\"b01d1a70-b027-47f1-9b86-27f7777a9b5a\")) {\n",
       "                    Plotly.newPlot(\n",
       "                        'b01d1a70-b027-47f1-9b86-27f7777a9b5a',\n",
       "                        [{\"lat\": [\"12.912157\", \"12.904184\", \"12.904184\", \"12.904184\", \"12.904184\", \"12.904184\", \"12.904184\", \"12.904184\", \"12.935067\", \"12.935067\", \"12.933046\", \"12.933046\", \"12.933046\", \"12.933046\", \"12.933046\", \"12.933046\", \"12.933046\", \"12.935067\", \"12.935067\", \"12.904092\", \"12.904092\", \"12.904092\", \"12.904092\", \"12.904092\", \"12.904092\", \"12.89216\", \"12.995841\", \"12.995841\", \"12.995841\", \"12.995841\", \"12.995841\", \"12.995841\", \"12.995841\", \"12.906392\", \"12.904115\", \"12.904115\", \"12.904115\", \"12.904115\", \"12.904115\", \"12.904115\", \"12.904115\", \"12.904112\", \"12.904112\", \"12.904112\", \"12.904304\", \"12.904157\", \"12.904157\", \"12.904157\", \"12.904157\", \"12.904157\", \"12.904157\", \"12.904119\", \"12.904119\", \"12.905\", \"12.905\", \"12.905\", \"12.905\", \"12.905\", \"12.905\", \"12.904102\", \"12.904098\", \"12.904098\", \"12.904098\", \"12.904098\", \"12.904098\", \"12.904098\", \"12.904098\", \"12.904098\", \"12.90412\", \"12.923093\", \"12.923093\", \"12.904103\", \"12.994455\", \"12.994457\", \"12.994457\", \"12.994434\", \"12.994434\", \"12.994434\", \"12.994434\", \"12.994434\", \"12.994434\", \"12.994434\", \"12.994434\", \"12.994434\", \"12.904171\", \"12.904304\", \"12.904304\", \"12.904304\", \"12.904304\", \"12.904304\", \"12.904304\", \"12.904108\", \"12.911546\", \"12.911546\", \"12.911546\", \"12.911546\", \"12.911546\", \"12.911546\", \"12.911546\", \"12.911546\", \"12.911546\", \"12.911546\", \"12.911546\", \"12.911546\", \"12.911546\", \"12.911546\", \"12.911546\", \"12.904103\", \"12.904103\", \"12.904103\", \"12.904103\", \"12.904103\", \"12.904103\", \"12.904103\", \"12.904103\", \"12.904103\", \"12.904103\", \"12.904111\", \"12.904111\", \"12.904111\", \"12.904229\", \"12.904229\", \"12.904229\", \"12.904229\", \"12.904229\", \"12.904229\", \"12.9038725\", \"12.911546\", \"12.911546\", \"12.911546\", \"12.911546\", \"12.904104\", \"28.589586\", \"28.60065\", \"12.904554\", \"12.904111\", \"12.904102\", \"12.904109\", \"12.904112\", \"12.904112\", \"12.904112\", \"12.904112\", \"12.904112\", \"12.904112\", \"12.904112\", \"12.904111\", \"12.904111\", \"12.904111\", \"12.904111\", \"12.904111\", \"12.904111\", \"12.904111\", \"12.904111\", \"12.904111\", \"12.904111\", \"12.904111\", \"12.904111\", \"12.904111\", \"12.904111\", \"12.904111\", \"12.904111\", \"12.904111\", \"12.904111\", \"12.904111\", \"12.904111\", \"12.904103\", \"12.904112\", \"12.904112\", \"12.904112\", \"12.904112\", \"12.904112\", \"12.904112\", \"12.907483\", \"12.904005\", \"12.904005\", \"12.904005\", \"12.904005\", \"12.904005\", \"12.904005\", \"12.903851\", \"12.969888\", \"12.969888\", \"12.969888\", \"12.969888\", \"12.969888\", \"12.969888\", \"12.971221\"], \"lon\": [\"77.648735\", \"77.64834\", \"77.64834\", \"77.64834\", \"77.64834\", \"77.64834\", \"77.64834\", \"77.64834\", \"77.665245\", \"77.665245\", \"77.69827\", \"77.69827\", \"77.69827\", \"77.69827\", \"77.69827\", \"77.69827\", \"77.69827\", \"77.665245\", \"77.665245\", \"77.648476\", \"77.648476\", \"77.648476\", \"77.648476\", \"77.648476\", \"77.648476\", \"80.19783\", \"80.193375\", \"80.193375\", \"80.193375\", \"80.193375\", \"80.193375\", \"80.193375\", \"80.193375\", \"77.64892\", \"77.64837\", \"77.64837\", \"77.64837\", \"77.64837\", \"77.64837\", \"77.64837\", \"77.64837\", \"77.648346\", \"77.648346\", \"77.648346\", \"77.64914\", \"77.64839\", \"77.64839\", \"77.64839\", \"77.64839\", \"77.64839\", \"77.64839\", \"77.64834\", \"77.64834\", \"77.64895\", \"77.64895\", \"77.64895\", \"77.64895\", \"77.64895\", \"77.64895\", \"77.64836\", \"77.6483\", \"77.6483\", \"77.6483\", \"77.6483\", \"77.6483\", \"77.6483\", \"77.6483\", \"77.6483\", \"77.64835\", \"77.6514\", \"77.6514\", \"77.64835\", \"77.533806\", \"77.5338\", \"77.5338\", \"77.53378\", \"77.53378\", \"77.53378\", \"77.53378\", \"77.53378\", \"77.53378\", \"77.53378\", \"77.53378\", \"77.53378\", \"77.64823\", \"77.64914\", \"77.64914\", \"77.64914\", \"77.64914\", \"77.64914\", \"77.64914\", \"77.64838\", \"77.62402\", \"77.62402\", \"77.62402\", \"77.62402\", \"77.62402\", \"77.62402\", \"77.62402\", \"77.62402\", \"77.62402\", \"77.62402\", \"77.62402\", \"77.62402\", \"77.62402\", \"77.62402\", \"77.62402\", \"77.64835\", \"77.64835\", \"77.64835\", \"77.64835\", \"77.64835\", \"77.64835\", \"77.64835\", \"77.64835\", \"77.64835\", \"77.64835\", \"77.648346\", \"77.648346\", \"77.648346\", \"77.64855\", \"77.64855\", \"77.64855\", \"77.64855\", \"77.64855\", \"77.64855\", \"77.6489\", \"77.62402\", \"77.62402\", \"77.62402\", \"77.62402\", \"77.64835\", \"77.25092\", \"77.21625\", \"77.64699\", \"77.648346\", \"77.64833\", \"77.64834\", \"77.64832\", \"77.64832\", \"77.64832\", \"77.64832\", \"77.64832\", \"77.64832\", \"77.64832\", \"77.648346\", \"77.648346\", \"77.648346\", \"77.648346\", \"77.648346\", \"77.648346\", \"77.648346\", \"77.648346\", \"77.648346\", \"77.648346\", \"77.648346\", \"77.648346\", \"77.648346\", \"77.648346\", \"77.648346\", \"77.648346\", \"77.648346\", \"77.648346\", \"77.648346\", \"77.648346\", \"77.64835\", \"77.64836\", \"77.64836\", \"77.64836\", \"77.64836\", \"77.64836\", \"77.64836\", \"77.649185\", \"77.64879\", \"77.64879\", \"77.64879\", \"77.64879\", \"77.64879\", \"77.64879\", \"77.64868\", \"77.597435\", \"77.597435\", \"77.597435\", \"77.597435\", \"77.597435\", \"77.597435\", \"77.59816\"], \"mode\": \"markers\", \"text\": [\"Unknown,Unknown ,App_Open\", \"Unknown,Unknown ,ScanPay_Button_Press\", \"HSR Layout,Bengaluru ,Pay_Remarks_Fill\", \"HSR Layout,Bengaluru ,Pay_Button_Press\", \"HSR Layout,Bengaluru ,Txn_Status_Change\", \"HSR Layout,Bengaluru ,Txn_Status_Change\", \"HSR Layout,Bengaluru ,Txn_Status_Change\", \"HSR Layout,Bengaluru ,Txn_Status_Button_Press\", \"Bellandur,Bengaluru ,App_Open\", \"Bellandur,Bengaluru ,LetsGo_Button_Press\", \"null,Bengaluru ,Login\", \"null,Bengaluru ,LoginResponse\", \"null,Bengaluru ,Login\", \"null,Bengaluru ,LoginResponse\", \"null,Bengaluru ,Unlock_Button_Press\", \"null,Bengaluru ,Unlock_Button_Press\", \"null,Bengaluru ,Unlock_Button_Press\", \"Bellandur,Bengaluru ,App_Open\", \"Bellandur,Bengaluru ,LetsGo_Button_Press\", \"HSR Layout,Bengaluru ,Login\", \"HSR Layout,Bengaluru ,LoginResponse\", \"HSR Layout,Bengaluru ,Unlock_Button_Press\", \"HSR Layout,Bengaluru ,Unlock_Button_Press\", \"HSR Layout,Bengaluru ,Unlock_Button_Press\", \"HSR Layout,Bengaluru ,App_Open\", \"Perumbakkam,Chennai ,App_Open\", \"Alandur,Chennai ,ScanPay_Button_Press\", \"Alandur,Chennai ,Pay_Remarks_Fill\", \"Alandur,Chennai ,Pay_Button_Press\", \"Alandur,Chennai ,Txn_Status_Change\", \"Alandur,Chennai ,Txn_Status_Change\", \"Alandur,Chennai ,Txn_Status_Change\", \"Alandur,Chennai ,Txn_Status_Button_Press\", \"HSR Layout,Bengaluru ,App_Open\", \"HSR Layout,Bengaluru ,ScanPay_Button_Press\", \"HSR Layout,Bengaluru ,Pay_Button_Press\", \"HSR Layout,Bengaluru ,Txn_Status_Change\", \"HSR Layout,Bengaluru ,Txn_Status_Change\", \"HSR Layout,Bengaluru ,Txn_Status_Change\", \"HSR Layout,Bengaluru ,Txn_Status_Button_Press\", \"HSR Layout,Bengaluru ,App_Open\", \"HSR Layout,Bengaluru ,ScanPay_Button_Press\", \"HSR Layout,Bengaluru ,TransferBank_Button_Press\", \"HSR Layout,Bengaluru ,App_Open\", \"HSR Layout,Bengaluru ,App_Open\", \"HSR Layout,Bengaluru ,ScanPay_Button_Press\", \"HSR Layout,Bengaluru ,Pay_Button_Press\", \"HSR Layout,Bengaluru ,Txn_Status_Change\", \"HSR Layout,Bengaluru ,Txn_Status_Change\", \"HSR Layout,Bengaluru ,Txn_Status_Change\", \"HSR Layout,Bengaluru ,Txn_Status_Button_Press\", \"HSR Layout,Bengaluru ,App_Open\", \"HSR Layout,Bengaluru ,ScanPay_Button_Press\", \"HSR Layout,Bengaluru ,Pay_Remarks_Fill\", \"HSR Layout,Bengaluru ,Pay_Button_Press\", \"HSR Layout,Bengaluru ,Txn_Status_Change\", \"HSR Layout,Bengaluru ,Txn_Status_Change\", \"HSR Layout,Bengaluru ,Txn_Status_Change\", \"HSR Layout,Bengaluru ,Txn_Status_Button_Press\", \"HSR Layout,Bengaluru ,App_Open\", \"HSR Layout,Bengaluru ,App_Open\", \"HSR Layout,Bengaluru ,ScanPay_Button_Press\", \"HSR Layout,Bengaluru ,Pay_Button_Press\", \"HSR Layout,Bengaluru ,Txn_Status_Change\", \"HSR Layout,Bengaluru ,Txn_Status_Change\", \"HSR Layout,Bengaluru ,Txn_Status_Change\", \"HSR Layout,Bengaluru ,Txn_Status_Button_Press\", \"HSR Layout,Bengaluru ,App_Open\", \"HSR Layout,Bengaluru ,App_Open\", \"HSR Layout,Bengaluru ,Unlock_Button_Press\", \"HSR Layout,Bengaluru ,Unlock_Button_Press\", \"HSR Layout,Bengaluru ,App_Open\", \"Basaweshwara Nagar,Bengaluru ,App_Open\", \"Basaweshwara Nagar,Bengaluru ,TransferBank_Button_Press\", \"Basaweshwara Nagar,Bengaluru ,Pay_Button_Press\", \"Basaweshwara Nagar,Bengaluru ,Txn_Status_Change\", \"Basaweshwara Nagar,Bengaluru ,Txn_Status_Change\", \"Basaweshwara Nagar,Bengaluru ,Txn_Status_Button_Press\", \"Basaweshwara Nagar,Bengaluru ,ScanPay_Button_Press\", \"Basaweshwara Nagar,Bengaluru ,Pay_Remarks_Fill\", \"Basaweshwara Nagar,Bengaluru ,Pay_Button_Press\", \"Basaweshwara Nagar,Bengaluru ,Txn_Status_Change\", \"Basaweshwara Nagar,Bengaluru ,Txn_Status_Change\", \"Basaweshwara Nagar,Bengaluru ,Txn_Status_Button_Press\", \"HSR Layout,Bengaluru ,App_Open\", \"HSR Layout,Bengaluru ,ScanPay_Button_Press\", \"HSR Layout,Bengaluru ,Pay_Remarks_Fill\", \"HSR Layout,Bengaluru ,Pay_Button_Press\", \"HSR Layout,Bengaluru ,Txn_Status_Change\", \"HSR Layout,Bengaluru ,Txn_Status_Change\", \"HSR Layout,Bengaluru ,Txn_Status_Change\", \"HSR Layout,Bengaluru ,App_Open\", \"Bommanahalli,Bengaluru ,TransferBank_Button_Press\", \"Bommanahalli,Bengaluru ,Pay_Button_Press\", \"Bommanahalli,Bengaluru ,Txn_Status_Change\", \"Bommanahalli,Bengaluru ,Txn_Status_Change\", \"Bommanahalli,Bengaluru ,TransferBank_Button_Press\", \"Bommanahalli,Bengaluru ,Pay_Button_Press\", \"Bommanahalli,Bengaluru ,Txn_Status_Change\", \"Bommanahalli,Bengaluru ,Txn_Status_Change\", \"Bommanahalli,Bengaluru ,Txn_Status_Button_Press\", \"Bommanahalli,Bengaluru ,TransferBank_Button_Press\", \"Bommanahalli,Bengaluru ,ScanPay_Button_Press\", \"Bommanahalli,Bengaluru ,App_Open\", \"Bommanahalli,Bengaluru ,ScanPay_Button_Press\", \"Bommanahalli,Bengaluru ,TransferBank_Button_Press\", \"Bommanahalli,Bengaluru ,App_Open\", \"HSR Layout,Bengaluru ,TransferBank_Button_Press\", \"HSR Layout,Bengaluru ,Pay_Button_Press\", \"HSR Layout,Bengaluru ,Txn_Status_Change\", \"HSR Layout,Bengaluru ,Txn_Status_Change\", \"HSR Layout,Bengaluru ,Txn_Status_Button_Press\", \"HSR Layout,Bengaluru ,TransferBank_Button_Press\", \"HSR Layout,Bengaluru ,Pay_Button_Press\", \"HSR Layout,Bengaluru ,Txn_Status_Change\", \"HSR Layout,Bengaluru ,Txn_Status_Change\", \"HSR Layout,Bengaluru ,Txn_Status_Change\", \"HSR Layout,Bengaluru ,Txn_Status_Change\", \"HSR Layout,Bengaluru ,Txn_Status_Button_Press\", \"HSR Layout,Bengaluru ,App_Open\", \"Unknown,Unknown ,ScanPay_Button_Press\", \"HSR Layout,Bengaluru ,Pay_Button_Press\", \"HSR Layout,Bengaluru ,Txn_Status_Change\", \"HSR Layout,Bengaluru ,Txn_Status_Change\", \"HSR Layout,Bengaluru ,Txn_Status_Change\", \"HSR Layout,Bengaluru ,Txn_Status_Button_Press\", \"HSR Layout,Bengaluru ,App_Open\", \"Bommanahalli,Bengaluru ,App_Open\", \"Bommanahalli,Bengaluru ,Login\", \"Bommanahalli,Bengaluru ,LoginResponse\", \"Bommanahalli,Bengaluru ,TransferBank_Button_Press\", \"HSR Layout,Bengaluru ,App_Open\", \"Nizamuddin East,New Delhi ,App_Open\", \"null,New Delhi ,ScanPay_Button_Press\", \"HSR Layout,Bengaluru ,App_Open\", \"HSR Layout,Bengaluru ,App_Open\", \"HSR Layout,Bengaluru ,App_Open\", \"HSR Layout,Bengaluru ,App_Open\", \"HSR Layout,Bengaluru ,TransferBank_Button_Press\", \"HSR Layout,Bengaluru ,TransferBank_Button_Press\", \"HSR Layout,Bengaluru ,App_Open\", \"HSR Layout,Bengaluru ,App_Open\", \"HSR Layout,Bengaluru ,App_Open\", \"HSR Layout,Bengaluru ,App_Open\", \"HSR Layout,Bengaluru ,App_Open\", \"HSR Layout,Bengaluru ,App_Open\", \"HSR Layout,Bengaluru ,App_Open\", \"HSR Layout,Bengaluru ,App_Open\", \"HSR Layout,Bengaluru ,App_Open\", \"HSR Layout,Bengaluru ,App_Open\", \"HSR Layout,Bengaluru ,App_Open\", \"HSR Layout,Bengaluru ,App_Open\", \"HSR Layout,Bengaluru ,App_Open\", \"HSR Layout,Bengaluru ,App_Open\", \"HSR Layout,Bengaluru ,App_Open\", \"HSR Layout,Bengaluru ,App_Open\", \"HSR Layout,Bengaluru ,TransferBank_Button_Press\", \"HSR Layout,Bengaluru ,ScanPay_Button_Press\", \"HSR Layout,Bengaluru ,Pay_Remarks_Fill\", \"HSR Layout,Bengaluru ,Pay_Button_Press\", \"HSR Layout,Bengaluru ,Txn_Status_Change\", \"HSR Layout,Bengaluru ,Txn_Status_Change\", \"HSR Layout,Bengaluru ,Txn_Status_Change\", \"HSR Layout,Bengaluru ,Txn_Status_Button_Press\", \"HSR Layout,Bengaluru ,App_Open\", \"HSR Layout,Bengaluru ,App_Open\", \"HSR Layout,Bengaluru ,ScanPay_Button_Press\", \"HSR Layout,Bengaluru ,Pay_Button_Press\", \"HSR Layout,Bengaluru ,Txn_Status_Change\", \"HSR Layout,Bengaluru ,Txn_Status_Change\", \"HSR Layout,Bengaluru ,Txn_Status_Change\", \"HSR Layout,Bengaluru ,Txn_Status_Button_Press\", \"HSR Layout,Bengaluru ,App_Open\", \"HSR Layout,Bengaluru ,ScanPay_Button_Press\", \"HSR Layout,Bengaluru ,Pay_Button_Press\", \"HSR Layout,Bengaluru ,Txn_Status_Change\", \"HSR Layout,Bengaluru ,Txn_Status_Change\", \"HSR Layout,Bengaluru ,Txn_Status_Change\", \"HSR Layout,Bengaluru ,Txn_Status_Button_Press\", \"HSR Layout,Bengaluru ,ScanPay_Button_Press\", \"Ashok Nagar,Bengaluru ,Pay_Remarks_Fill\", \"Ashok Nagar,Bengaluru ,Pay_Button_Press\", \"Ashok Nagar,Bengaluru ,Txn_Status_Change\", \"Ashok Nagar,Bengaluru ,Txn_Status_Change\", \"Ashok Nagar,Bengaluru ,Txn_Status_Change\", \"Ashok Nagar,Bengaluru ,Txn_Status_Button_Press\", \"null,Bengaluru ,App_Open\"], \"type\": \"scattergeo\"}],\n",
       "                        {\"geo\": {\"countrywidth\": 0.5, \"landcolor\": \"rgb(250, 250, 250)\", \"scope\": \"asia\", \"showland\": true, \"subunitwidth\": 0.5}, \"template\": {\"data\": {\"bar\": [{\"error_x\": {\"color\": \"#2a3f5f\"}, \"error_y\": {\"color\": \"#2a3f5f\"}, \"marker\": {\"line\": {\"color\": \"#E5ECF6\", \"width\": 0.5}}, \"type\": \"bar\"}], \"barpolar\": [{\"marker\": {\"line\": {\"color\": \"#E5ECF6\", \"width\": 0.5}}, \"type\": \"barpolar\"}], \"carpet\": [{\"aaxis\": {\"endlinecolor\": \"#2a3f5f\", \"gridcolor\": \"white\", \"linecolor\": \"white\", \"minorgridcolor\": \"white\", \"startlinecolor\": \"#2a3f5f\"}, \"baxis\": {\"endlinecolor\": \"#2a3f5f\", \"gridcolor\": \"white\", \"linecolor\": \"white\", \"minorgridcolor\": \"white\", \"startlinecolor\": \"#2a3f5f\"}, \"type\": \"carpet\"}], \"choropleth\": [{\"colorbar\": {\"outlinewidth\": 0, \"ticks\": \"\"}, \"type\": \"choropleth\"}], \"contour\": [{\"colorbar\": {\"outlinewidth\": 0, \"ticks\": \"\"}, \"colorscale\": [[0.0, \"#0d0887\"], [0.1111111111111111, \"#46039f\"], [0.2222222222222222, \"#7201a8\"], [0.3333333333333333, \"#9c179e\"], [0.4444444444444444, \"#bd3786\"], [0.5555555555555556, \"#d8576b\"], [0.6666666666666666, \"#ed7953\"], [0.7777777777777778, \"#fb9f3a\"], [0.8888888888888888, \"#fdca26\"], [1.0, \"#f0f921\"]], \"type\": \"contour\"}], \"contourcarpet\": [{\"colorbar\": {\"outlinewidth\": 0, \"ticks\": \"\"}, \"type\": \"contourcarpet\"}], \"heatmap\": [{\"colorbar\": {\"outlinewidth\": 0, \"ticks\": \"\"}, \"colorscale\": [[0.0, \"#0d0887\"], [0.1111111111111111, \"#46039f\"], [0.2222222222222222, \"#7201a8\"], [0.3333333333333333, \"#9c179e\"], [0.4444444444444444, \"#bd3786\"], [0.5555555555555556, \"#d8576b\"], [0.6666666666666666, \"#ed7953\"], [0.7777777777777778, \"#fb9f3a\"], [0.8888888888888888, \"#fdca26\"], [1.0, \"#f0f921\"]], \"type\": \"heatmap\"}], \"heatmapgl\": [{\"colorbar\": {\"outlinewidth\": 0, \"ticks\": \"\"}, \"colorscale\": [[0.0, \"#0d0887\"], [0.1111111111111111, \"#46039f\"], [0.2222222222222222, \"#7201a8\"], [0.3333333333333333, \"#9c179e\"], [0.4444444444444444, \"#bd3786\"], [0.5555555555555556, \"#d8576b\"], [0.6666666666666666, \"#ed7953\"], [0.7777777777777778, \"#fb9f3a\"], [0.8888888888888888, \"#fdca26\"], [1.0, \"#f0f921\"]], \"type\": \"heatmapgl\"}], \"histogram\": [{\"marker\": {\"colorbar\": {\"outlinewidth\": 0, \"ticks\": \"\"}}, \"type\": \"histogram\"}], \"histogram2d\": [{\"colorbar\": {\"outlinewidth\": 0, \"ticks\": \"\"}, \"colorscale\": [[0.0, \"#0d0887\"], [0.1111111111111111, \"#46039f\"], [0.2222222222222222, \"#7201a8\"], [0.3333333333333333, \"#9c179e\"], [0.4444444444444444, \"#bd3786\"], [0.5555555555555556, \"#d8576b\"], [0.6666666666666666, \"#ed7953\"], [0.7777777777777778, \"#fb9f3a\"], [0.8888888888888888, \"#fdca26\"], [1.0, \"#f0f921\"]], \"type\": \"histogram2d\"}], \"histogram2dcontour\": [{\"colorbar\": {\"outlinewidth\": 0, \"ticks\": \"\"}, \"colorscale\": [[0.0, \"#0d0887\"], [0.1111111111111111, \"#46039f\"], [0.2222222222222222, \"#7201a8\"], [0.3333333333333333, \"#9c179e\"], [0.4444444444444444, \"#bd3786\"], [0.5555555555555556, \"#d8576b\"], [0.6666666666666666, \"#ed7953\"], [0.7777777777777778, \"#fb9f3a\"], [0.8888888888888888, \"#fdca26\"], [1.0, \"#f0f921\"]], \"type\": \"histogram2dcontour\"}], \"mesh3d\": [{\"colorbar\": {\"outlinewidth\": 0, \"ticks\": \"\"}, \"type\": \"mesh3d\"}], \"parcoords\": [{\"line\": {\"colorbar\": {\"outlinewidth\": 0, \"ticks\": \"\"}}, \"type\": \"parcoords\"}], \"pie\": [{\"automargin\": true, \"type\": \"pie\"}], \"scatter\": [{\"marker\": {\"colorbar\": {\"outlinewidth\": 0, \"ticks\": \"\"}}, \"type\": \"scatter\"}], \"scatter3d\": [{\"line\": {\"colorbar\": {\"outlinewidth\": 0, \"ticks\": \"\"}}, \"marker\": {\"colorbar\": {\"outlinewidth\": 0, \"ticks\": \"\"}}, \"type\": \"scatter3d\"}], \"scattercarpet\": [{\"marker\": {\"colorbar\": {\"outlinewidth\": 0, \"ticks\": \"\"}}, \"type\": \"scattercarpet\"}], \"scattergeo\": [{\"marker\": {\"colorbar\": {\"outlinewidth\": 0, \"ticks\": \"\"}}, \"type\": \"scattergeo\"}], \"scattergl\": [{\"marker\": {\"colorbar\": {\"outlinewidth\": 0, \"ticks\": \"\"}}, \"type\": \"scattergl\"}], \"scattermapbox\": [{\"marker\": {\"colorbar\": {\"outlinewidth\": 0, \"ticks\": \"\"}}, \"type\": \"scattermapbox\"}], \"scatterpolar\": [{\"marker\": {\"colorbar\": {\"outlinewidth\": 0, \"ticks\": \"\"}}, \"type\": \"scatterpolar\"}], \"scatterpolargl\": [{\"marker\": {\"colorbar\": {\"outlinewidth\": 0, \"ticks\": \"\"}}, \"type\": \"scatterpolargl\"}], \"scatterternary\": [{\"marker\": {\"colorbar\": {\"outlinewidth\": 0, \"ticks\": \"\"}}, \"type\": \"scatterternary\"}], \"surface\": [{\"colorbar\": {\"outlinewidth\": 0, \"ticks\": \"\"}, \"colorscale\": [[0.0, \"#0d0887\"], [0.1111111111111111, \"#46039f\"], [0.2222222222222222, \"#7201a8\"], [0.3333333333333333, \"#9c179e\"], [0.4444444444444444, \"#bd3786\"], [0.5555555555555556, \"#d8576b\"], [0.6666666666666666, \"#ed7953\"], [0.7777777777777778, \"#fb9f3a\"], [0.8888888888888888, \"#fdca26\"], [1.0, \"#f0f921\"]], \"type\": \"surface\"}], \"table\": [{\"cells\": {\"fill\": {\"color\": \"#EBF0F8\"}, \"line\": {\"color\": \"white\"}}, \"header\": {\"fill\": {\"color\": \"#C8D4E3\"}, \"line\": {\"color\": \"white\"}}, \"type\": \"table\"}]}, \"layout\": {\"annotationdefaults\": {\"arrowcolor\": \"#2a3f5f\", \"arrowhead\": 0, \"arrowwidth\": 1}, \"coloraxis\": {\"colorbar\": {\"outlinewidth\": 0, \"ticks\": \"\"}}, \"colorscale\": {\"diverging\": [[0, \"#8e0152\"], [0.1, \"#c51b7d\"], [0.2, \"#de77ae\"], [0.3, \"#f1b6da\"], [0.4, \"#fde0ef\"], [0.5, \"#f7f7f7\"], [0.6, \"#e6f5d0\"], [0.7, \"#b8e186\"], [0.8, \"#7fbc41\"], [0.9, \"#4d9221\"], [1, \"#276419\"]], \"sequential\": [[0.0, \"#0d0887\"], [0.1111111111111111, \"#46039f\"], [0.2222222222222222, \"#7201a8\"], [0.3333333333333333, \"#9c179e\"], [0.4444444444444444, \"#bd3786\"], [0.5555555555555556, \"#d8576b\"], [0.6666666666666666, \"#ed7953\"], [0.7777777777777778, \"#fb9f3a\"], [0.8888888888888888, \"#fdca26\"], [1.0, \"#f0f921\"]], \"sequentialminus\": [[0.0, \"#0d0887\"], [0.1111111111111111, \"#46039f\"], [0.2222222222222222, \"#7201a8\"], [0.3333333333333333, \"#9c179e\"], [0.4444444444444444, \"#bd3786\"], [0.5555555555555556, \"#d8576b\"], [0.6666666666666666, \"#ed7953\"], [0.7777777777777778, \"#fb9f3a\"], [0.8888888888888888, \"#fdca26\"], [1.0, \"#f0f921\"]]}, \"colorway\": [\"#636efa\", \"#EF553B\", \"#00cc96\", \"#ab63fa\", \"#FFA15A\", \"#19d3f3\", \"#FF6692\", \"#B6E880\", \"#FF97FF\", \"#FECB52\"], \"font\": {\"color\": \"#2a3f5f\"}, \"geo\": {\"bgcolor\": \"white\", \"lakecolor\": \"white\", \"landcolor\": \"#E5ECF6\", \"showlakes\": true, \"showland\": true, \"subunitcolor\": \"white\"}, \"hoverlabel\": {\"align\": \"left\"}, \"hovermode\": \"closest\", \"mapbox\": {\"style\": \"light\"}, \"paper_bgcolor\": \"white\", \"plot_bgcolor\": \"#E5ECF6\", \"polar\": {\"angularaxis\": {\"gridcolor\": \"white\", \"linecolor\": \"white\", \"ticks\": \"\"}, \"bgcolor\": \"#E5ECF6\", \"radialaxis\": {\"gridcolor\": \"white\", \"linecolor\": \"white\", \"ticks\": \"\"}}, \"scene\": {\"xaxis\": {\"backgroundcolor\": \"#E5ECF6\", \"gridcolor\": \"white\", \"gridwidth\": 2, \"linecolor\": \"white\", \"showbackground\": true, \"ticks\": \"\", \"zerolinecolor\": \"white\"}, \"yaxis\": {\"backgroundcolor\": \"#E5ECF6\", \"gridcolor\": \"white\", \"gridwidth\": 2, \"linecolor\": \"white\", \"showbackground\": true, \"ticks\": \"\", \"zerolinecolor\": \"white\"}, \"zaxis\": {\"backgroundcolor\": \"#E5ECF6\", \"gridcolor\": \"white\", \"gridwidth\": 2, \"linecolor\": \"white\", \"showbackground\": true, \"ticks\": \"\", \"zerolinecolor\": \"white\"}}, \"shapedefaults\": {\"line\": {\"color\": \"#2a3f5f\"}}, \"ternary\": {\"aaxis\": {\"gridcolor\": \"white\", \"linecolor\": \"white\", \"ticks\": \"\"}, \"baxis\": {\"gridcolor\": \"white\", \"linecolor\": \"white\", \"ticks\": \"\"}, \"bgcolor\": \"#E5ECF6\", \"caxis\": {\"gridcolor\": \"white\", \"linecolor\": \"white\", \"ticks\": \"\"}}, \"title\": {\"x\": 0.05}, \"xaxis\": {\"automargin\": true, \"gridcolor\": \"white\", \"linecolor\": \"white\", \"ticks\": \"\", \"title\": {\"standoff\": 15}, \"zerolinecolor\": \"white\", \"zerolinewidth\": 2}, \"yaxis\": {\"automargin\": true, \"gridcolor\": \"white\", \"linecolor\": \"white\", \"ticks\": \"\", \"title\": {\"standoff\": 15}, \"zerolinecolor\": \"white\", \"zerolinewidth\": 2}}}, \"title\": {\"text\": \"Action <br>(Hover for location and action)\"}},\n",
       "                        {\"responsive\": true}\n",
       "                    ).then(function(){\n",
       "                            \n",
       "var gd = document.getElementById('b01d1a70-b027-47f1-9b86-27f7777a9b5a');\n",
       "var x = new MutationObserver(function (mutations, observer) {{\n",
       "        var display = window.getComputedStyle(gd).display;\n",
       "        if (!display || display === 'none') {{\n",
       "            console.log([gd, 'removed!']);\n",
       "            Plotly.purge(gd);\n",
       "            observer.disconnect();\n",
       "        }}\n",
       "}});\n",
       "\n",
       "// Listen for the removal of the full notebook cells\n",
       "var notebookContainer = gd.closest('#notebook-container');\n",
       "if (notebookContainer) {{\n",
       "    x.observe(notebookContainer, {childList: true});\n",
       "}}\n",
       "\n",
       "// Listen for the clearing of the current output cell\n",
       "var outputEl = gd.closest('.output');\n",
       "if (outputEl) {{\n",
       "    x.observe(outputEl, {childList: true});\n",
       "}}\n",
       "\n",
       "                        })\n",
       "                };\n",
       "                });\n",
       "            </script>\n",
       "        </div>"
      ]
     },
     "metadata": {},
     "output_type": "display_data"
    }
   ],
   "source": [
    "import plotly.graph_objects as go\n",
    "\n",
    "import pandas as pd\n",
    "fig = go.Figure(data=go.Scattergeo(\n",
    "        lon = df['long'],\n",
    "        lat = df['lat'],\n",
    "        text = df['Location'] + ' ,' +df['Action'],\n",
    "        mode = 'markers',\n",
    "        \n",
    "        \n",
    "        ))\n",
    "\n",
    "fig.update_layout(\n",
    "        title = 'Action <br>(Hover for location and action)',\n",
    "        geo = dict(\n",
    "            scope='asia',\n",
    "#             projection_type='albers usa',\n",
    "            showland = True,\n",
    "            landcolor = \"rgb(250, 250, 250)\",\n",
    "#             subunitcolor = \"rgb(217, 217, 217)\",\n",
    "#             countrycolor = \"rgb(217, 217, 217)\",\n",
    "            countrywidth = 0.5,\n",
    "            subunitwidth = 0.5\n",
    "        ),\n",
    "    )\n"
   ]
  }
 ],
 "metadata": {
  "kernelspec": {
   "display_name": "Python 3",
   "language": "python",
   "name": "python3"
  },
  "language_info": {
   "codemirror_mode": {
    "name": "ipython",
    "version": 3
   },
   "file_extension": ".py",
   "mimetype": "text/x-python",
   "name": "python",
   "nbconvert_exporter": "python",
   "pygments_lexer": "ipython3",
   "version": "3.7.3"
  }
 },
 "nbformat": 4,
 "nbformat_minor": 2
}
